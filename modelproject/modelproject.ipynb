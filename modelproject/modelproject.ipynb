{
 "cells": [
  {
   "attachments": {},
   "cell_type": "markdown",
   "metadata": {},
   "source": [
    "# Should you go partying or not? - A Principal Agent model "
   ]
  },
  {
   "attachments": {},
   "cell_type": "markdown",
   "metadata": {},
   "source": [
    "Imports and set magics:"
   ]
  },
  {
   "cell_type": "code",
   "execution_count": 1,
   "metadata": {},
   "outputs": [],
   "source": [
    "import numpy as np\n",
    "from scipy import optimize\n",
    "import sympy as sm\n",
    "import ipywidgets as widgets\n",
    "import matplotlib.pyplot as plt\n",
    "from types import SimpleNamespace\n",
    "\n",
    "# autoreload modules when code is run\n",
    "%load_ext autoreload\n",
    "%autoreload 2\n",
    "\n",
    "# plotting\n",
    "import matplotlib.pyplot as plt\n",
    "plt.rcParams.update({\"axes.grid\":True,\"grid.color\":\"black\",\"grid.alpha\":\"0.25\",\"grid.linestyle\":\"--\"})\n",
    "plt.rcParams.update({'font.size': 14})\n",
    "\n",
    "# local modules\n",
    "from modelproject import PrincipalAgentClass\n"
   ]
  },
  {
   "attachments": {},
   "cell_type": "markdown",
   "metadata": {},
   "source": [
    "# Model description"
   ]
  },
  {
   "attachments": {},
   "cell_type": "markdown",
   "metadata": {},
   "source": [
    "The principal owns a Joe and the Juice and employs an employee (agent) to sell the juice. The agents utility function is given by $\\frac{w^{1-\\rho}}{1-\\rho} - c \\cdot e$, where w is the wage received, and $e=e^*=1$ when the employee stays home at night to be well-rested and $e=0$ when he goes partying. He has a reservation utility of $\\bar{u}$ and it is seen how the agent is risk averse. \n",
    "\n",
    "The employee might sell lots of juice, $s_H$, and only a little juice, $s_L$. When the employee is hungover the probability of high juice sales is $\\pi_0$. When the employee is not hungover, $e=e^*=1$ the probability is $\\pi_1$.\n",
    "\n",
    "The principal cannot observe whether to agent goes partying or stays at home, but he/she might construct a contract that induces the agent to provide high effort. \n",
    "\n",
    "In order to do this the principal can suggest a contract with a wage og $w_H$ if the employee sells a lot, and $w_L$ if the employee sells a little. The dilemma is again that the agent is risk-averse and the expected wage necessary in order to provide his reservation utility is higher when we introduce risk. \n",
    " \n",
    "The principal chooses $(w_L,w_H)$ so as to maximize expected profit:\n",
    "$$\\begin{align} profit = \\pi_i \\cdot (s_H-w_H) +(1-\\pi_i)(s_L-w_L), i\\in{(0,1)}\n",
    "\\end{align}$$"
   ]
  },
  {
   "attachments": {},
   "cell_type": "markdown",
   "metadata": {},
   "source": [
    "If the principal wants the agent to work hard the problem looks like the following:\n",
    "$$ \n",
    "\\begin{align*}\n",
    "\\min_{w_{H},w_{L}} \\pi_1 \\cdot w_H +(1-\\pi_1)w_L \\\\\n",
    " \\text{s.t.} \\\\\n",
    " \\pi_1 (\\frac{w_H^{1-\\rho}}{1-\\rho} -c \\cdot e^*) + (1-\\pi_1) (\\frac{w_L^{1-\\rho}}{1-\\rho} -c \\cdot e^*) \\geq \\bar{u} \\quad \\text{(IR)} \\\\\n",
    " \n",
    " \\pi_1 (\\frac{w_H^{1-\\rho}}{1-\\rho} -c \\cdot e^*) + (1-\\pi_1) (\\frac{w_L^{1-\\rho}}{1-\\rho} -c \\cdot e^*) \\geq \\pi_0 (\\frac{w_H^{1-\\rho}}{1-\\rho})+(1-\\pi_0)(\\frac{w_L^{1-\\rho}}{1-\\rho}) \\quad \\text{(IC)}\n",
    "\\end{align*}\n",
    "\n",
    "\n",
    "$$"
   ]
  },
  {
   "attachments": {},
   "cell_type": "markdown",
   "metadata": {},
   "source": [
    "The IC-constraint can be rewritten:\n",
    "$$\n",
    "\\begin{align*}\n",
    " \\pi_1 (\\frac{w_H^{1-\\rho}}{1-\\rho} -c \\cdot e^*) + (1-\\pi_1) (\\frac{w_L^{1-\\rho}}{1-\\rho} -c \\cdot e^*) \\geq \\pi_0 (\\frac{w_H^{1-\\rho}}{1-\\rho})+(1-\\pi_0)(\\frac{w_L^{1-\\rho}}{1-\\rho}) \\Longleftrightarrow \\\\\n",
    "(\\pi_1-\\pi_0)\\frac{w_H^{1-\\rho}}{1-\\rho} - (\\pi_1-\\pi_0)\\frac{w_L^{1-\\rho}}{1-\\rho} \\geq c\\cdot e^* \\Longleftrightarrow \\\\\n",
    "\\frac{w_H^{1-\\rho}}{1-\\rho} - \\frac{w_L^{1-\\rho}}{1-\\rho} \\geq \\frac {c \\cdot e^*}{\\pi_1-\\pi_0}\n",
    "\\end{align*}"
   ]
  },
  {
   "attachments": {},
   "cell_type": "markdown",
   "metadata": {},
   "source": [
    "If the principal wants the agent to just go partying the problem looks like the following:\n",
    "$$ \n",
    "\\begin{align*}\n",
    "\\min_{w_{h},w_{L}} \\pi_0 \\cdot w_H +(1-\\pi_0)w_L \\\\\n",
    " \\text{s.t.} \\\\\n",
    " \\pi_0 (\\frac{w_H^{1-\\rho}}{1-\\rho}) + (1-\\pi_0) (\\frac{w_L^{1-\\rho}}{1-\\rho}) \\geq \\bar{u} \\quad \\text{(IR)} \\\\\n",
    " \n",
    " \\pi_1 (\\frac{w_H^{1-\\rho}}{1-\\rho} -c \\cdot e^*) + (1-\\pi_1) (\\frac{w_L^{1-\\rho}}{1-\\rho} -c \\cdot e^*) \\leq \\pi_0 (\\frac{w_H^{1-\\rho}}{1-\\rho})+(1-\\pi_0)(\\frac{w_L^{1-\\rho}}{1-\\rho}) \\quad \\text{(IC)}\n",
    " \n",
    "\\end{align*}\n",
    "\n",
    "\n",
    "$$"
   ]
  },
  {
   "attachments": {},
   "cell_type": "markdown",
   "metadata": {},
   "source": [
    "The IC-constraint can again be rewritten: \n",
    "$$\n",
    "\\begin{align*}\n",
    "\\frac{w_H^{1-\\rho}}{1-\\rho} - \\frac{w_L^{1-\\rho}}{1-\\rho} \\leq \\frac {c \\cdot e^*}{\\pi_1-\\pi_0}\n",
    "\\end{align*}"
   ]
  },
  {
   "attachments": {},
   "cell_type": "markdown",
   "metadata": {},
   "source": [
    "## Analytical solution"
   ]
  },
  {
   "attachments": {},
   "cell_type": "markdown",
   "metadata": {},
   "source": [
    "Firstly, we solve the model analytically when the principal wants high and low effort. We find the optimal wages expressed using only parameters from the model "
   ]
  },
  {
   "attachments": {},
   "cell_type": "markdown",
   "metadata": {},
   "source": [
    "### Defining start set-up"
   ]
  },
  {
   "cell_type": "code",
   "execution_count": 2,
   "metadata": {},
   "outputs": [],
   "source": [
    "# defining parameters\n",
    "pi_1 = sm.symbols('pi_1')\n",
    "pi_0 = sm.symbols('pi_0')\n",
    "wH = sm.symbols('w_H')\n",
    "wL = sm.symbols('w_L')\n",
    "w = sm.symbols('w')\n",
    "rho = sm.symbols('rho')\n",
    "c = sm.symbols('c')\n",
    "estar = sm.symbols('e^*')\n",
    "ubar = sm.symbols('ubar')"
   ]
  },
  {
   "cell_type": "code",
   "execution_count": 3,
   "metadata": {},
   "outputs": [
    {
     "data": {
      "text/latex": [
       "$\\displaystyle \\pi_{1} w_{H} + w_{L} \\left(1 - \\pi_{1}\\right)$"
      ],
      "text/plain": [
       "pi_1*w_H + w_L*(1 - pi_1)"
      ]
     },
     "execution_count": 3,
     "metadata": {},
     "output_type": "execute_result"
    }
   ],
   "source": [
    "# defining objective function\n",
    "objective = pi_1*wH +(1-pi_1)*wL\n",
    "objective"
   ]
  },
  {
   "cell_type": "code",
   "execution_count": 4,
   "metadata": {},
   "outputs": [
    {
     "data": {
      "text/latex": [
       "$\\displaystyle \\frac{w_{H}^{1 - \\rho}}{1 - \\rho}$"
      ],
      "text/plain": [
       "w_H**(1 - rho)/(1 - rho)"
      ]
     },
     "execution_count": 4,
     "metadata": {},
     "output_type": "execute_result"
    }
   ],
   "source": [
    "# defining utility if recieving high wage\n",
    "uH = wH**(1-rho)/(1-rho)\n",
    "uH"
   ]
  },
  {
   "cell_type": "code",
   "execution_count": 5,
   "metadata": {},
   "outputs": [
    {
     "data": {
      "text/latex": [
       "$\\displaystyle \\frac{w_{L}^{1 - \\rho}}{1 - \\rho}$"
      ],
      "text/plain": [
       "w_L**(1 - rho)/(1 - rho)"
      ]
     },
     "execution_count": 5,
     "metadata": {},
     "output_type": "execute_result"
    }
   ],
   "source": [
    "# defining utility if recieving low wage\n",
    "uL = wL**(1-rho)/(1-rho)\n",
    "uL"
   ]
  },
  {
   "attachments": {},
   "cell_type": "markdown",
   "metadata": {},
   "source": [
    "### Solution if the principal wants high effort"
   ]
  },
  {
   "attachments": {},
   "cell_type": "markdown",
   "metadata": {},
   "source": [
    "If the principal wants high effort both the IR and the IC constraint will bind. This is used to solve for $w_H$ and $w_L$"
   ]
  },
  {
   "cell_type": "code",
   "execution_count": 6,
   "metadata": {},
   "outputs": [
    {
     "data": {
      "text/latex": [
       "$\\displaystyle \\pi_{1} \\left(- c e^{*} + \\frac{w_{H}^{1 - \\rho}}{1 - \\rho}\\right) + \\left(1 - \\pi_{1}\\right) \\left(- c e^{*} + \\frac{w_{L}^{1 - \\rho}}{1 - \\rho}\\right) = \\bar{u}$"
      ],
      "text/plain": [
       "Eq(pi_1*(-c*e^* + w_H**(1 - rho)/(1 - rho)) + (1 - pi_1)*(-c*e^* + w_L**(1 - rho)/(1 - rho)), ubar)"
      ]
     },
     "execution_count": 6,
     "metadata": {},
     "output_type": "execute_result"
    }
   ],
   "source": [
    "# defining IR constraint. will bind in optimum. \n",
    "IRconstraint_high_effort = sm.Eq(pi_1*(uH-c*estar) + (1-pi_1)*(uL-c*estar),ubar)\n",
    "IRconstraint_high_effort "
   ]
  },
  {
   "cell_type": "code",
   "execution_count": 7,
   "metadata": {},
   "outputs": [
    {
     "data": {
      "text/latex": [
       "$\\displaystyle \\frac{w_{H}^{1 - \\rho}}{1 - \\rho} - \\frac{w_{L}^{1 - \\rho}}{1 - \\rho} = \\frac{c e^{*}}{- \\pi_{0} + \\pi_{1}}$"
      ],
      "text/plain": [
       "Eq(w_H**(1 - rho)/(1 - rho) - w_L**(1 - rho)/(1 - rho), c*e^*/(-pi_0 + pi_1))"
      ]
     },
     "execution_count": 7,
     "metadata": {},
     "output_type": "execute_result"
    }
   ],
   "source": [
    "# defining IC constraint. will bind in optimum. \n",
    "ICconstraint_high_effort = sm.Eq(uH-uL,c*estar/(pi_1-pi_0))\n",
    "ICconstraint_high_effort"
   ]
  },
  {
   "attachments": {},
   "cell_type": "markdown",
   "metadata": {},
   "source": [
    "**Solving for the optimal utilities**"
   ]
  },
  {
   "cell_type": "code",
   "execution_count": 8,
   "metadata": {},
   "outputs": [
    {
     "data": {
      "text/latex": [
       "$\\displaystyle \\frac{- c e^{*} \\rho + c e^{*} - \\pi_{1} w_{H}^{1 - \\rho} - \\rho \\bar{u} + \\bar{u}}{\\pi_{1} \\rho - \\pi_{1} - \\rho + 1}$"
      ],
      "text/plain": [
       "(-c*e^**rho + c*e^* - pi_1*w_H**(1 - rho) - rho*ubar + ubar)/(pi_1*rho - pi_1 - rho + 1)"
      ]
     },
     "execution_count": 8,
     "metadata": {},
     "output_type": "execute_result"
    }
   ],
   "source": [
    "# isolating uL from IR \n",
    "uL_from_IR_high_effort = sm.solve(IRconstraint_high_effort,uL)\n",
    "uL_from_IR_high_effort[0]"
   ]
  },
  {
   "cell_type": "code",
   "execution_count": 9,
   "metadata": {},
   "outputs": [
    {
     "data": {
      "text/latex": [
       "$\\displaystyle \\frac{w_{H}^{1 - \\rho}}{1 - \\rho} - \\frac{- c e^{*} \\rho + c e^{*} - \\pi_{1} w_{H}^{1 - \\rho} - \\rho \\bar{u} + \\bar{u}}{\\pi_{1} \\rho - \\pi_{1} - \\rho + 1} = \\frac{c e^{*}}{- \\pi_{0} + \\pi_{1}}$"
      ],
      "text/plain": [
       "Eq(w_H**(1 - rho)/(1 - rho) - (-c*e^**rho + c*e^* - pi_1*w_H**(1 - rho) - rho*ubar + ubar)/(pi_1*rho - pi_1 - rho + 1), c*e^*/(-pi_0 + pi_1))"
      ]
     },
     "execution_count": 9,
     "metadata": {},
     "output_type": "execute_result"
    }
   ],
   "source": [
    "# substitutig uL into IC\n",
    "IC_subs_high_effort = ICconstraint_high_effort.subs(uL, uL_from_IR_high_effort[0])\n",
    "IC_subs_high_effort"
   ]
  },
  {
   "cell_type": "code",
   "execution_count": 10,
   "metadata": {},
   "outputs": [
    {
     "data": {
      "text/latex": [
       "$\\displaystyle \\frac{- c e^{*} \\pi_{0} \\rho + c e^{*} \\pi_{0} + c e^{*} \\rho - c e^{*} - \\pi_{0} \\pi_{1} w_{H}^{1 - \\rho} - \\pi_{0} \\rho \\bar{u} + \\pi_{0} \\bar{u} + \\pi_{1}^{2} w_{H}^{1 - \\rho} + \\pi_{1} \\rho \\bar{u} - \\pi_{1} \\bar{u}}{\\pi_{0} \\pi_{1} \\rho - \\pi_{0} \\pi_{1} - \\pi_{0} \\rho + \\pi_{0} - \\pi_{1}^{2} \\rho + \\pi_{1}^{2} + \\pi_{1} \\rho - \\pi_{1}}$"
      ],
      "text/plain": [
       "(-c*e^**pi_0*rho + c*e^**pi_0 + c*e^**rho - c*e^* - pi_0*pi_1*w_H**(1 - rho) - pi_0*rho*ubar + pi_0*ubar + pi_1**2*w_H**(1 - rho) + pi_1*rho*ubar - pi_1*ubar)/(pi_0*pi_1*rho - pi_0*pi_1 - pi_0*rho + pi_0 - pi_1**2*rho + pi_1**2 + pi_1*rho - pi_1)"
      ]
     },
     "execution_count": 10,
     "metadata": {},
     "output_type": "execute_result"
    }
   ],
   "source": [
    "# isolating uH\n",
    "uH_from_IC_high_effort = sm.solve(IC_subs_high_effort, uH)\n",
    "uH_from_IC_high_effort[0]"
   ]
  },
  {
   "cell_type": "code",
   "execution_count": 11,
   "metadata": {},
   "outputs": [
    {
     "data": {
      "text/latex": [
       "$\\displaystyle - \\frac{w_{L}^{1 - \\rho}}{1 - \\rho} + \\frac{- c e^{*} \\pi_{0} \\rho + c e^{*} \\pi_{0} + c e^{*} \\rho - c e^{*} - \\pi_{0} \\pi_{1} w_{H}^{1 - \\rho} - \\pi_{0} \\rho \\bar{u} + \\pi_{0} \\bar{u} + \\pi_{1}^{2} w_{H}^{1 - \\rho} + \\pi_{1} \\rho \\bar{u} - \\pi_{1} \\bar{u}}{\\pi_{0} \\pi_{1} \\rho - \\pi_{0} \\pi_{1} - \\pi_{0} \\rho + \\pi_{0} - \\pi_{1}^{2} \\rho + \\pi_{1}^{2} + \\pi_{1} \\rho - \\pi_{1}} = \\frac{c e^{*}}{- \\pi_{0} + \\pi_{1}}$"
      ],
      "text/plain": [
       "Eq(-w_L**(1 - rho)/(1 - rho) + (-c*e^**pi_0*rho + c*e^**pi_0 + c*e^**rho - c*e^* - pi_0*pi_1*w_H**(1 - rho) - pi_0*rho*ubar + pi_0*ubar + pi_1**2*w_H**(1 - rho) + pi_1*rho*ubar - pi_1*ubar)/(pi_0*pi_1*rho - pi_0*pi_1 - pi_0*rho + pi_0 - pi_1**2*rho + pi_1**2 + pi_1*rho - pi_1), c*e^*/(-pi_0 + pi_1))"
      ]
     },
     "execution_count": 11,
     "metadata": {},
     "output_type": "execute_result"
    }
   ],
   "source": [
    "# substituting uH into IC \n",
    "IC_subs1_high_effort = ICconstraint_high_effort.subs(uH, uH_from_IC_high_effort[0])\n",
    "IC_subs1_high_effort"
   ]
  },
  {
   "cell_type": "code",
   "execution_count": 12,
   "metadata": {},
   "outputs": [
    {
     "data": {
      "text/latex": [
       "$\\displaystyle \\frac{- c e^{*} \\rho + c e^{*} - \\pi_{1} w_{H}^{1 - \\rho} - \\rho \\bar{u} + \\bar{u}}{\\pi_{1} \\rho - \\pi_{1} - \\rho + 1}$"
      ],
      "text/plain": [
       "(-c*e^**rho + c*e^* - pi_1*w_H**(1 - rho) - rho*ubar + ubar)/(pi_1*rho - pi_1 - rho + 1)"
      ]
     },
     "execution_count": 12,
     "metadata": {},
     "output_type": "execute_result"
    }
   ],
   "source": [
    "# isolating uL\n",
    "uL_from_IC_subs1_high_effort = sm.solve(IC_subs1_high_effort,uL)\n",
    "uL_from_IC_subs1_high_effort[0]"
   ]
  },
  {
   "attachments": {},
   "cell_type": "markdown",
   "metadata": {},
   "source": [
    "**Solving for the optimal wages**"
   ]
  },
  {
   "cell_type": "code",
   "execution_count": 13,
   "metadata": {},
   "outputs": [
    {
     "data": {
      "text/latex": [
       "$\\displaystyle \\left(\\frac{- c e^{*} \\pi_{0} \\rho + c e^{*} \\pi_{0} + c e^{*} \\rho - c e^{*} - \\pi_{0} \\rho \\bar{u} + \\pi_{0} \\bar{u} + \\pi_{1} \\rho \\bar{u} - \\pi_{1} \\bar{u}}{\\pi_{0} - \\pi_{1}}\\right)^{- \\frac{1}{\\rho - 1}}$"
      ],
      "text/plain": [
       "((-c*e^**pi_0*rho + c*e^**pi_0 + c*e^**rho - c*e^* - pi_0*rho*ubar + pi_0*ubar + pi_1*rho*ubar - pi_1*ubar)/(pi_0 - pi_1))**(-1/(rho - 1))"
      ]
     },
     "execution_count": 13,
     "metadata": {},
     "output_type": "execute_result"
    }
   ],
   "source": [
    "# solve for wH\n",
    "wH_solve_high_effort = sm.solve(sm.Eq(uH_from_IC_high_effort[0],uH),wH)\n",
    "wH_solve_high_effort[0]"
   ]
  },
  {
   "cell_type": "code",
   "execution_count": 14,
   "metadata": {},
   "outputs": [
    {
     "data": {
      "text/latex": [
       "$\\displaystyle \\left(\\frac{c e^{*} \\rho^{2} - 2 c e^{*} \\rho + c e^{*} + \\pi_{1} \\rho w_{H}^{1 - \\rho} - \\pi_{1} w_{H}^{1 - \\rho} + \\rho^{2} \\bar{u} - 2 \\rho \\bar{u} + \\bar{u}}{\\pi_{1} \\rho - \\pi_{1} - \\rho + 1}\\right)^{- \\frac{1}{\\rho - 1}}$"
      ],
      "text/plain": [
       "((c*e^**rho**2 - 2*c*e^**rho + c*e^* + pi_1*rho*w_H**(1 - rho) - pi_1*w_H**(1 - rho) + rho**2*ubar - 2*rho*ubar + ubar)/(pi_1*rho - pi_1 - rho + 1))**(-1/(rho - 1))"
      ]
     },
     "execution_count": 14,
     "metadata": {},
     "output_type": "execute_result"
    }
   ],
   "source": [
    "# solving for wL\n",
    "wL_solve_high_effort = sm.solve(sm.Eq(uL_from_IC_subs1_high_effort[0],uL),wL)\n",
    "wL_solve_high_effort[0]"
   ]
  },
  {
   "cell_type": "code",
   "execution_count": 15,
   "metadata": {},
   "outputs": [
    {
     "data": {
      "text/latex": [
       "$\\displaystyle \\left(\\frac{c e^{*} \\rho^{2} - 2 c e^{*} \\rho + c e^{*} + \\pi_{1} \\rho \\left(\\left(\\frac{- c e^{*} \\pi_{0} \\rho + c e^{*} \\pi_{0} + c e^{*} \\rho - c e^{*} - \\pi_{0} \\rho \\bar{u} + \\pi_{0} \\bar{u} + \\pi_{1} \\rho \\bar{u} - \\pi_{1} \\bar{u}}{\\pi_{0} - \\pi_{1}}\\right)^{- \\frac{1}{\\rho - 1}}\\right)^{1 - \\rho} - \\pi_{1} \\left(\\left(\\frac{- c e^{*} \\pi_{0} \\rho + c e^{*} \\pi_{0} + c e^{*} \\rho - c e^{*} - \\pi_{0} \\rho \\bar{u} + \\pi_{0} \\bar{u} + \\pi_{1} \\rho \\bar{u} - \\pi_{1} \\bar{u}}{\\pi_{0} - \\pi_{1}}\\right)^{- \\frac{1}{\\rho - 1}}\\right)^{1 - \\rho} + \\rho^{2} \\bar{u} - 2 \\rho \\bar{u} + \\bar{u}}{\\pi_{1} \\rho - \\pi_{1} - \\rho + 1}\\right)^{- \\frac{1}{\\rho - 1}}$"
      ],
      "text/plain": [
       "((c*e^**rho**2 - 2*c*e^**rho + c*e^* + pi_1*rho*(((-c*e^**pi_0*rho + c*e^**pi_0 + c*e^**rho - c*e^* - pi_0*rho*ubar + pi_0*ubar + pi_1*rho*ubar - pi_1*ubar)/(pi_0 - pi_1))**(-1/(rho - 1)))**(1 - rho) - pi_1*(((-c*e^**pi_0*rho + c*e^**pi_0 + c*e^**rho - c*e^* - pi_0*rho*ubar + pi_0*ubar + pi_1*rho*ubar - pi_1*ubar)/(pi_0 - pi_1))**(-1/(rho - 1)))**(1 - rho) + rho**2*ubar - 2*rho*ubar + ubar)/(pi_1*rho - pi_1 - rho + 1))**(-1/(rho - 1))"
      ]
     },
     "execution_count": 15,
     "metadata": {},
     "output_type": "execute_result"
    }
   ],
   "source": [
    "# defining wL without wH (only with parameters from the model)\n",
    "wL_without_wages_high_effort = wL_solve_high_effort[0].subs(wH,wH_solve_high_effort[0])\n",
    "wL_without_wages_high_effort"
   ]
  },
  {
   "attachments": {},
   "cell_type": "markdown",
   "metadata": {},
   "source": [
    "**Turning the solutions into lambda functions**"
   ]
  },
  {
   "cell_type": "code",
   "execution_count": 16,
   "metadata": {},
   "outputs": [],
   "source": [
    "# low wage\n",
    "wL_func_high_effort = sm.lambdify(args=(pi_1,pi_0,rho,c,estar,ubar), expr=wL_without_wages_high_effort)"
   ]
  },
  {
   "cell_type": "code",
   "execution_count": 17,
   "metadata": {},
   "outputs": [],
   "source": [
    "# high wage \n",
    "wH_func_high_effort = sm.lambdify(args=(pi_1,pi_0,rho,c,estar,ubar), expr=wH_solve_high_effort)"
   ]
  },
  {
   "attachments": {},
   "cell_type": "markdown",
   "metadata": {},
   "source": [
    "### Solution if the principal wants low effort"
   ]
  },
  {
   "attachments": {},
   "cell_type": "markdown",
   "metadata": {},
   "source": [
    "If the principal wants low effort only the IR will bind, since you would not want to differentiate the wages, if you only want the agent to provide low effort (because the agent is risk-averse this is optimal).\n",
    "\n",
    "Therefore $w_L=w_H=w$"
   ]
  },
  {
   "cell_type": "code",
   "execution_count": 18,
   "metadata": {},
   "outputs": [
    {
     "data": {
      "text/latex": [
       "$\\displaystyle \\frac{\\pi_{1} w^{1 - \\rho}}{1 - \\rho} + \\frac{w^{1 - \\rho} \\left(1 - \\pi_{1}\\right)}{1 - \\rho} = \\bar{u}$"
      ],
      "text/plain": [
       "Eq(pi_1*w**(1 - rho)/(1 - rho) + w**(1 - rho)*(1 - pi_1)/(1 - rho), ubar)"
      ]
     },
     "execution_count": 18,
     "metadata": {},
     "output_type": "execute_result"
    }
   ],
   "source": [
    "IRconstraint_low_effort = sm.Eq(pi_1*w**(1-rho)/(1-rho) + (1-pi_1)*w**(1-rho)/(1-rho),ubar)\n",
    "IRconstraint_low_effort "
   ]
  },
  {
   "cell_type": "code",
   "execution_count": 19,
   "metadata": {},
   "outputs": [
    {
     "data": {
      "text/latex": [
       "$\\displaystyle \\left(\\bar{u} \\left(1 - \\rho\\right)\\right)^{- \\frac{1}{\\rho - 1}}$"
      ],
      "text/plain": [
       "(ubar*(1 - rho))**(-1/(rho - 1))"
      ]
     },
     "execution_count": 19,
     "metadata": {},
     "output_type": "execute_result"
    }
   ],
   "source": [
    "w_solve_low_effort = sm.solve(IRconstraint_low_effort ,w)\n",
    "w_solve_low_effort[0]"
   ]
  },
  {
   "attachments": {},
   "cell_type": "markdown",
   "metadata": {},
   "source": [
    "**Making the solution into lambda functions**"
   ]
  },
  {
   "cell_type": "code",
   "execution_count": 20,
   "metadata": {},
   "outputs": [],
   "source": [
    "w_func_low_effort = sm.lambdify(args=(rho,ubar),expr=w_solve_low_effort)"
   ]
  },
  {
   "attachments": {},
   "cell_type": "markdown",
   "metadata": {},
   "source": [
    "## Numerical solution"
   ]
  },
  {
   "attachments": {},
   "cell_type": "markdown",
   "metadata": {},
   "source": [
    "We now provide an algorithm for solving the model:"
   ]
  },
  {
   "attachments": {},
   "cell_type": "markdown",
   "metadata": {},
   "source": [
    "**Algorithm on how to solve our economic model**"
   ]
  },
  {
   "attachments": {},
   "cell_type": "markdown",
   "metadata": {},
   "source": [
    "1. Solve for the optimal wages when wanting high effort using a numercal solver that can handle constraints. \n",
    "\n",
    "    a. Define the mathematical equations that represent the economic model, including the expected wages and IC- and IR- constraints related to high effort.\n",
    "\n",
    "    b. Set the initial guesses for the wages.\n",
    "\n",
    "    c. Use a numerical solver to minimize expected wages while satisfying the constraints\n",
    "\n",
    "2. Solve for the optimal wages when wanting low effort using a numercal solver that can handle constraints.\n",
    "\n",
    "    a. Define the mathematical equations that represent the economic model, including the expected wages and IC- and IR- constraints related to low effort.\n",
    "\n",
    "    b. Set the initial guesses for the wages.\n",
    "\n",
    "    c. Use a numerical solver to minimize expected wages while satisfying the constraints\n",
    "\n",
    "3. Compare high effort profit and low effort profit \n",
    "\n",
    "    a. Evaluate profits by plugging in wages in the profit function\n",
    "    \n",
    "    b. Determine which solutions yields the highest profit. This is the final solution"
   ]
  },
  {
   "attachments": {},
   "cell_type": "markdown",
   "metadata": {},
   "source": [
    "We now solve the model and compare the profits when wanting high effort and low effort"
   ]
  },
  {
   "cell_type": "code",
   "execution_count": 21,
   "metadata": {},
   "outputs": [],
   "source": [
    "model = PrincipalAgentClass()\n",
    "par = model.par\n",
    "sol = model.sol"
   ]
  },
  {
   "cell_type": "code",
   "execution_count": 22,
   "metadata": {},
   "outputs": [
    {
     "data": {
      "text/plain": [
       "(12.250000000000002, 3.361111111111069, True, 145.41666666666669)"
      ]
     },
     "execution_count": 22,
     "metadata": {},
     "output_type": "execute_result"
    }
   ],
   "source": [
    "model.solve()"
   ]
  },
  {
   "cell_type": "code",
   "execution_count": 23,
   "metadata": {},
   "outputs": [
    {
     "name": "stdout",
     "output_type": "stream",
     "text": [
      "The high sales wage when wanting high effort is 12.25\n",
      "The low sales wage when wanting high effort is 3.36\n",
      "The resulting profit when wanting high effort is 145.42\n"
     ]
    }
   ],
   "source": [
    "print(f'The high sales wage when wanting high effort is {sol.wH_high_effort:.2f}')\n",
    "print(f'The low sales wage when wanting high effort is {sol.wL_high_effort:.2f}')\n",
    "print(f'The resulting profit when wanting high effort is {sol.profit_high_effort:.2f}')\n"
   ]
  },
  {
   "cell_type": "code",
   "execution_count": 24,
   "metadata": {},
   "outputs": [
    {
     "name": "stdout",
     "output_type": "stream",
     "text": [
      "The high sales wage when wanting low effort is 6.25\n",
      "The low sales wage when wanting low effort is 6.25\n",
      "The resulting profit when wanting low effort is 103.75\n"
     ]
    }
   ],
   "source": [
    "print(f'The high sales wage when wanting low effort is {sol.wH_loweffort:.2f}')\n",
    "print(f'The low sales wage when wanting low effort is {sol.wL_loweffort:.2f}')\n",
    "print(f'The resulting profit when wanting low effort is {sol.profit_low_effort:.2f}')"
   ]
  },
  {
   "attachments": {},
   "cell_type": "markdown",
   "metadata": {},
   "source": [
    "It is seen how it is in this case optimal to construct the contract so that the agent works hard. Furthermore it is again seen how you provide the same wage when getting high and low sales, when the principal only wants low effort. "
   ]
  },
  {
   "attachments": {},
   "cell_type": "markdown",
   "metadata": {},
   "source": [
    "**Checking differences between numerical and analytical solutions wanting high effort and differing $\\bar{u}$**"
   ]
  },
  {
   "attachments": {},
   "cell_type": "markdown",
   "metadata": {},
   "source": [
    "We now check the differences between the analytical and numerical solution (which should be equal). This also works as an simulation of the model, since I find the solution for different reservation utility, $\\bar{u}$, levels"
   ]
  },
  {
   "cell_type": "code",
   "execution_count": 28,
   "metadata": {},
   "outputs": [],
   "source": [
    "# making vectors to store the results\n",
    "analytical_high_effort = SimpleNamespace()\n",
    "numerical_high_effort = SimpleNamespace()\n",
    "\n",
    "namespaces = [analytical_high_effort, numerical_high_effort]\n",
    "\n",
    "variables = [\"wH\", \"wL\", \"IR\",\"IC\"]\n",
    "\n",
    "steps = 20\n",
    "grid = np.linspace(2,10,steps)\n",
    "\n",
    "for ns in namespaces:\n",
    "    for var in variables:\n",
    "        setattr(ns, f\"{var}_u\", np.nan + np.zeros(steps))\n",
    "        setattr(ns, f\"{var}_u\", np.nan + np.zeros(steps))\n"
   ]
  },
  {
   "cell_type": "code",
   "execution_count": 30,
   "metadata": {},
   "outputs": [],
   "source": [
    "# solving the model for different reservation utilities bot numerically and analytically\n",
    "for i,u in enumerate(grid):\n",
    "    par.ubar = u\n",
    "    model.solve()\n",
    "    \n",
    "    # storing wages\n",
    "    numerical_high_effort.wH_u[i] = sol.wH_high_effort\n",
    "    analytical_high_effort.wH_u[i] = wH_func_high_effort(par.pi_1,par.pi_0,par.rho,par.c,1,par.ubar)[0]\n",
    "    \n",
    "    numerical_high_effort.wL_u[i] = sol.wL_high_effort\n",
    "    analytical_high_effort.wL_u[i] = wL_func_high_effort(par.pi_1,par.pi_0,par.rho,par.c,1,par.ubar)\n",
    "\n",
    "    # storing constraints\n",
    "    numerical_high_effort.IR_u[i] = model.IR_constraint(sol.wH_high_effort,sol.wL_high_effort,1)\n",
    "    analytical_high_effort.IR_u[i] = model.IR_constraint(analytical_high_effort.wH_u[i], analytical_high_effort.wL_u[i], 1)\n",
    "    \n",
    "    numerical_high_effort.IC_u[i] = model.IC_constraint(sol.wH_high_effort,sol.wL_high_effort,1)\n",
    "    analytical_high_effort.IC_u[i] = model.IC_constraint(analytical_high_effort.wH_u[i],analytical_high_effort.wL_u[i],1)"
   ]
  },
  {
   "cell_type": "code",
   "execution_count": 31,
   "metadata": {},
   "outputs": [
    {
     "data": {
      "image/png": "[encoded data removed]",
      "text/plain": [
       "<Figure size 1800x400 with 3 Axes>"
      ]
     },
     "metadata": {},
     "output_type": "display_data"
    }
   ],
   "source": [
    "fig = plt.figure(figsize=(3*6, 6/1.5))\n",
    "\n",
    "# plotting high wages as a function of reservation utility\n",
    "ax = fig.add_subplot(1,3,1)\n",
    "ax.plot(grid,numerical_high_effort.wH_u,label=r'$w_H$, numerical')\n",
    "ax.plot(grid,analytical_high_effort.wH_u,label=r'$w_H$, analytical')\n",
    "ax.set(xlabel ='Reservation utility')\n",
    "ax.legend(frameon=True)\n",
    "\n",
    "# plotting low wages as a function of reservation utility\n",
    "ax = fig.add_subplot(1,3,2)\n",
    "ax.plot(grid,numerical_high_effort.wL_u,label=r'$w_L$, numerical')\n",
    "ax.plot(grid,analytical_high_effort.wL_u, label=r'$w_L$, analytical')\n",
    "ax.set(xlabel ='Reservation utility')\n",
    "ax.legend(frameon=True)\n",
    "\n",
    "# plotting constraints as a function of reservation utility\n",
    "ax = fig.add_subplot(1,3,3)\n",
    "ax.plot(grid,numerical_high_effort.IC_u,label=r'IC numerical')\n",
    "ax.plot(grid,numerical_high_effort.IR_u, label=r'IR numerical')\n",
    "ax.plot(grid,analytical_high_effort.IC_u,label=r'IC analytical')\n",
    "ax.plot(grid,analytical_high_effort.IR_u, label=r'IR analytical')\n",
    "ax.set(xlabel ='Reservation utility')\n",
    "ax.legend(frameon=True)\n",
    "\n",
    "\n",
    "fig.tight_layout()\n"
   ]
  },
  {
   "attachments": {},
   "cell_type": "markdown",
   "metadata": {},
   "source": [
    "It is seen how the numerical and analytical method produce similar results and the the IC and IR constraints bind."
   ]
  },
  {
   "attachments": {},
   "cell_type": "markdown",
   "metadata": {},
   "source": [
    "# Further analysis"
   ]
  },
  {
   "attachments": {},
   "cell_type": "markdown",
   "metadata": {},
   "source": [
    "### Solution with change of parameter values "
   ]
  },
  {
   "attachments": {},
   "cell_type": "markdown",
   "metadata": {},
   "source": [
    "We now try to see how our model changes with parameter values."
   ]
  },
  {
   "attachments": {},
   "cell_type": "markdown",
   "metadata": {},
   "source": [
    "**Probability of high sales if hard work, $\\pi_1$**"
   ]
  },
  {
   "cell_type": "code",
   "execution_count": 32,
   "metadata": {},
   "outputs": [],
   "source": [
    "# making plots with solutions for different levels of pi_1\n",
    "def plot_pi_1(pi_0=0.3, ubar=5.0, rho=0.5, highsales=100, c=2, lowsales=0):\n",
    "    model = PrincipalAgentClass()\n",
    "    par = model.par \n",
    "\n",
    "    par.pi_0 = pi_0\n",
    "    par.c = c\n",
    "    par.ubar = ubar \n",
    "    par.rho = rho\n",
    "    par.highsales = highsales \n",
    "    par.lowsales = lowsales \n",
    "\n",
    "    model.compare('pi_1',par.pi_0,1,20)"
   ]
  },
  {
   "cell_type": "code",
   "execution_count": 37,
   "metadata": {},
   "outputs": [],
   "source": [
    "# making interactive plots\n",
    "def plot_interact_pi1():\n",
    "    widgets.interact(plot_pi_1,\n",
    "                     pi_0 = widgets.FloatSlider(\n",
    "                        desciption = 'pi_0', min=0, max=1, step=0.1, value=0.1),\n",
    "                     ubar = widgets.FloatSlider(\n",
    "                        description = 'ubar', min=0, max=20, step=1, value=2),\n",
    "                     rho = widgets.FloatSlider(\n",
    "                        description = 'rho', min=0, max=0.99, step=0.1, value=0.5),\n",
    "                     highsales = widgets.FloatSlider(\n",
    "                        description = 'sH', min= 0, max=200, step=5, value=100),\n",
    "                     lowsales = widgets.FloatSlider(\n",
    "                        description = 'sL', min=0, max=200, step=5, value=50),\n",
    "                     c = widgets.FloatSlider(\n",
    "                        description = 'c', min=1, max=20, step=1, value=2)\n",
    "                     \n",
    ");"
   ]
  },
  {
   "cell_type": "code",
   "execution_count": 38,
   "metadata": {},
   "outputs": [
    {
     "data": {
      "application/vnd.jupyter.widget-view+json": {
       "model_id": "815547c9c4ec455eac15526301bdbd0d",
       "version_major": 2,
       "version_minor": 0
      },
      "text/plain": [
       "interactive(children=(FloatSlider(value=0.1, description='pi_0', max=1.0), FloatSlider(value=2.0, description=…"
      ]
     },
     "metadata": {},
     "output_type": "display_data"
    }
   ],
   "source": [
    "plot_interact_pi1()"
   ]
  },
  {
   "attachments": {},
   "cell_type": "markdown",
   "metadata": {},
   "source": [
    "It it seen how the profits rise when $\\pi_1$ rises, when the principal induces high effort. It is again also illustrated how the wages only differentiate, when high effort-profits are higher than low effort-profits."
   ]
  },
  {
   "attachments": {},
   "cell_type": "markdown",
   "metadata": {},
   "source": [
    "**Cost of effort, C**"
   ]
  },
  {
   "cell_type": "code",
   "execution_count": 45,
   "metadata": {},
   "outputs": [],
   "source": [
    "# making plots with solutions for different levels of c\n",
    "def plot_c(pi_0=0.3, ubar=5.0, rho=0.5, highsales=100, pi_1 = 0.7, lowsales=0):\n",
    "    model = PrincipalAgentClass()\n",
    "    par = model.par \n",
    "\n",
    "    par.pi_0 = pi_0\n",
    "    par.ubar = ubar \n",
    "    par.rho = rho\n",
    "    par.highsales = highsales \n",
    "    par.lowsales = lowsales \n",
    "    par.pi_1 = pi_1\n",
    "\n",
    "    model.compare('c',0,1,20)"
   ]
  },
  {
   "cell_type": "code",
   "execution_count": 46,
   "metadata": {},
   "outputs": [],
   "source": [
    "# making interactive plots\n",
    "def plot_interact_c():\n",
    "    widgets.interact(plot_c,\n",
    "                     pi_0 = widgets.FloatSlider(\n",
    "                        desciption = 'pi_0', min=0, max=1, step=0.1, value=0.1),\n",
    "                     ubar = widgets.FloatSlider(\n",
    "                        description = 'ubar', min=0, max=20, step=1, value=2),\n",
    "                     rho = widgets.FloatSlider(\n",
    "                        description = 'rho', min=0, max=0.99, step=0.1, value=0.5),\n",
    "                     lowsales = widgets.FloatSlider(\n",
    "                        description = 'sL', min=0, max=200, step=5, value=50),\n",
    "                     highsales = widgets.FloatSlider(\n",
    "                        description = 'sH', min=0, max=200, step=5, value=75),\n",
    "                     pi_1 = widgets.FloatSlider(\n",
    "                        description = 'pi_1', min=0, max=1, step=0.1, value=0.2)\n",
    "                     \n",
    ");"
   ]
  },
  {
   "cell_type": "code",
   "execution_count": 41,
   "metadata": {},
   "outputs": [
    {
     "data": {
      "application/vnd.jupyter.widget-view+json": {
       "model_id": "79ffe58101104c1e8fcad3517f1a5390",
       "version_major": 2,
       "version_minor": 0
      },
      "text/plain": [
       "interactive(children=(FloatSlider(value=0.1, description='pi_0', max=1.0), FloatSlider(value=2.0, description=…"
      ]
     },
     "metadata": {},
     "output_type": "display_data"
    }
   ],
   "source": [
    "plot_interact_c()"
   ]
  },
  {
   "attachments": {},
   "cell_type": "markdown",
   "metadata": {},
   "source": [
    "It is seen how the difference between high and low wage needs to rise, when the cost of providing high effort rises. Furthermore it is seen how profits are lower the higher c is. "
   ]
  },
  {
   "attachments": {},
   "cell_type": "markdown",
   "metadata": {},
   "source": [
    "**Reservation utility, $\\bar{u}$**"
   ]
  },
  {
   "cell_type": "code",
   "execution_count": 42,
   "metadata": {},
   "outputs": [],
   "source": [
    "# making plots with solutions for different levels of ubar\n",
    "def plot_u(pi_0=0.3, c=1, rho=0.5, highsales=100, pi_1 =0.7, lowsales=0):\n",
    "    model = PrincipalAgentClass()\n",
    "    par = model.par \n",
    "\n",
    "    par.pi_0 = pi_0\n",
    "    par.c = c \n",
    "    par.rho = rho\n",
    "    par.highsales = highsales \n",
    "    par.lowsales = lowsales \n",
    "    par.pi_1 = pi_1\n",
    "\n",
    "    model.compare('ubar',0,20,20)"
   ]
  },
  {
   "cell_type": "code",
   "execution_count": 47,
   "metadata": {},
   "outputs": [],
   "source": [
    "# making interactive plots\n",
    "def plot_interact_u():\n",
    "    widgets.interact(plot_u,\n",
    "                     pi_0 = widgets.FloatSlider(\n",
    "                        desciption = 'pi_0', min=0, max=1, step=0.1, value=0.1),\n",
    "                     c = widgets.FloatSlider(\n",
    "                        description = 'c', min=0, max=20, step=1, value=1),\n",
    "                     rho = widgets.FloatSlider(\n",
    "                        description = 'rho', min=0, max=0.99, step=0.1, value=0.5),\n",
    "                     highsales = widgets.FloatSlider(\n",
    "                        description = 'sH', min=0, max=200, step=5, value=100),\n",
    "                     lowsales = widgets.FloatSlider(\n",
    "                        description = 'sL', min=0, max=200, step=5, value=50),\n",
    "                     pi_1 = widgets.FloatSlider(\n",
    "                        description = 'pi_1', min=0, max=1, step=0.1, value=0.7)\n",
    "                     \n",
    ");"
   ]
  },
  {
   "cell_type": "code",
   "execution_count": 48,
   "metadata": {},
   "outputs": [
    {
     "data": {
      "application/vnd.jupyter.widget-view+json": {
       "model_id": "08ee57fe5c9346988e39a998252bfa16",
       "version_major": 2,
       "version_minor": 0
      },
      "text/plain": [
       "interactive(children=(FloatSlider(value=0.1, description='pi_0', max=1.0), FloatSlider(value=1.0, description=…"
      ]
     },
     "metadata": {},
     "output_type": "display_data"
    }
   ],
   "source": [
    "plot_interact_u()"
   ]
  },
  {
   "attachments": {},
   "cell_type": "markdown",
   "metadata": {},
   "source": [
    "It is seen how wages rise when the reservation utility rises, which makes sense since the agents outside option is better and we need higher wages to meet the IR-constraint. "
   ]
  },
  {
   "attachments": {},
   "cell_type": "markdown",
   "metadata": {},
   "source": [
    "### Extension of the model, introducing monitoring that comes with a cost"
   ]
  },
  {
   "attachments": {},
   "cell_type": "markdown",
   "metadata": {},
   "source": [
    "We now extent the model by introducing a possibility for monitoring the agent's effort level but at a fixed cost. If the principal pays $M$ the IC constraints will not be there, since the principal can just demand an effort, and the problem will be solved without. The affected equations are \n",
    "\n",
    "$$\\begin{align} profit = \\pi_i \\cdot (s_H-w_H) +(1-\\pi_i)(s_L-w_L) - M\\cdot monitoring, i\\in{(0,1)}\n",
    "\\end{align}$$\n",
    "where $monitoring$ is a dummy for whether the principal chooses to monitor or not.\n",
    "\n",
    "Furthermore the IC constraints disappear."
   ]
  },
  {
   "cell_type": "code",
   "execution_count": null,
   "metadata": {},
   "outputs": [],
   "source": [
    "# solving the model with and without monitoring\n",
    "model = PrincipalAgentClass()\n",
    "no_monitor_wH, no_monitor_wL, no_monitor_effort, no_monitor_profit = model.solve()\n",
    "monitor_wH, monitor_wL, monitor_effort, monitor_profit = model.solve(1)"
   ]
  },
  {
   "cell_type": "code",
   "execution_count": null,
   "metadata": {},
   "outputs": [],
   "source": [
    "# printing results with monitoring\n",
    "print(f'The high sales wage when monitoring is {no_monitor_wH:.2f}')\n",
    "print(f'The low sales wage when monitoring is {no_monitor_wL:.2f}')\n",
    "print(f'The principal wants high effort (1=True) {monitor_effort:.2f}')\n",
    "print(f'The resulting profit when monitoring is {no_monitor_profit:.2f}')"
   ]
  },
  {
   "cell_type": "code",
   "execution_count": null,
   "metadata": {},
   "outputs": [],
   "source": [
    "# printing results without monitoring\n",
    "print(f'The high sales wage when not monitoring is {monitor_wH:.2f}')\n",
    "print(f'The low sales wage when not monitoring is {monitor_wL:.2f}')\n",
    "print(f'The principal demands high effort (1=True) {monitor_effort:.2f}')\n",
    "print(f'The resulting profit when not monitoring is {monitor_profit:.2f}')"
   ]
  },
  {
   "attachments": {},
   "cell_type": "markdown",
   "metadata": {},
   "source": [
    "It is seen here how it is optimal to choose equal high and low wages when the principal is able to monitor, because the agent is risk averse. It is furthermore seen how it in this case yields a higher profit for the principal "
   ]
  },
  {
   "attachments": {},
   "cell_type": "markdown",
   "metadata": {},
   "source": [
    "**Altering monitoring cost**"
   ]
  },
  {
   "attachments": {},
   "cell_type": "markdown",
   "metadata": {},
   "source": [
    "We now solve the model for different monitor costs:"
   ]
  },
  {
   "cell_type": "code",
   "execution_count": null,
   "metadata": {},
   "outputs": [],
   "source": [
    "# making vectors to store the results\n",
    "no_monitoring = SimpleNamespace()\n",
    "monitoring = SimpleNamespace()\n",
    "namespaces = [no_monitoring, monitoring]\n",
    "\n",
    "variables = [\"wH\", \"wL\", \"profit\"]\n",
    "\n",
    "steps = 20\n",
    "grid = np.linspace(0.1,1,steps)\n",
    "\n",
    "for ns in namespaces:\n",
    "    for var in variables:\n",
    "        setattr(ns, f\"{var}\", np.nan + np.zeros(steps))\n",
    "        setattr(ns, f\"{var}\", np.nan + np.zeros(steps))"
   ]
  },
  {
   "cell_type": "code",
   "execution_count": null,
   "metadata": {},
   "outputs": [],
   "source": [
    "# finding profits with and without monitoring with different monitor expenses\n",
    "def plot_M():\n",
    "    model = PrincipalAgentClass()\n",
    "    par = model.par \n",
    "    sol = model.sol\n",
    "\n",
    "    for i,M in enumerate(grid):\n",
    "        par.M = M \n",
    "        model.solve()\n",
    "        no_monitoring.profit[i] = sol.profit\n",
    "        \n",
    "    for i,M in enumerate(grid):\n",
    "        par.M = M \n",
    "        model.solve(1)\n",
    "        monitoring.profit[i] = sol.profit\n",
    "\n",
    "    \n",
    "    # plotting\n",
    "    fig = plt.figure(figsize=(6,6/1.5))\n",
    "\n",
    "    ax = fig.add_subplot(1,1,1)\n",
    "    ax.set_title(f'Profits depending on M')\n",
    "    ax.plot(grid,no_monitoring.profit,label='Profit, no monitoring')\n",
    "    ax.plot(grid,monitoring.profit, label='Profit, monitoring')\n",
    "    ax.set(xlabel =r'M')\n",
    "    ax.legend(frameon=True)\n",
    "    fig.tight_layout()\n",
    "    plt.show()"
   ]
  },
  {
   "cell_type": "code",
   "execution_count": null,
   "metadata": {},
   "outputs": [],
   "source": [
    "plot_M()"
   ]
  },
  {
   "attachments": {},
   "cell_type": "markdown",
   "metadata": {},
   "source": [
    "It is illustrated how the monitor cost is deciding for whether it is optimal for the principal to use the technology or not."
   ]
  },
  {
   "attachments": {},
   "cell_type": "markdown",
   "metadata": {},
   "source": [
    "# Conclusion"
   ]
  },
  {
   "attachments": {},
   "cell_type": "markdown",
   "metadata": {},
   "source": [
    "In this project we have introduced a principal-agent model. First we solved it analytially and numerical and furthermore we showed how the numerical solver provides nearly identical solutions to the analytical solution. Afterwards we illustate how the solution depends on the model's parameters and how it is sometime optimal for the agent to make sure the agent provides a high effort and sometimes not. At last we provide an extension of the model where we introduce the possibility of monitoring the agent but at a cost. It is shown that monitoring makes the principal offer the same wage in case of high and low sales and that whether monitoring is optimal depends on the monitoring cost. "
   ]
  }
 ],
 "metadata": {
  "kernelspec": {
   "display_name": "base",
   "language": "python",
   "name": "python3"
  },
  "language_info": {
   "codemirror_mode": {
    "name": "ipython",
    "version": 3
   },
   "file_extension": ".py",
   "mimetype": "text/x-python",
   "name": "python",
   "nbconvert_exporter": "python",
   "pygments_lexer": "ipython3",
   "version": "3.9.13"
  },
  "toc-autonumbering": true,
  "vscode": {
   "interpreter": {
    "hash": "47ef90cdf3004d3f859f1fb202523c65c07ba7c22eefd261b181f4744e2d0403"
   }
  }
 },
 "nbformat": 4,
 "nbformat_minor": 4
}
