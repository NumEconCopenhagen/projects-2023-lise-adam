{
 "cells": [
  {
   "attachments": {},
   "cell_type": "markdown",
   "metadata": {},
   "source": [
    "# Principal Agent model "
   ]
  },
  {
   "attachments": {},
   "cell_type": "markdown",
   "metadata": {},
   "source": [
    "Imports and set magics:"
   ]
  },
  {
   "cell_type": "code",
   "execution_count": 1,
   "metadata": {},
   "outputs": [],
   "source": [
    "import numpy as np\n",
    "from scipy import optimize\n",
    "import sympy as sm\n",
    "\n",
    "# autoreload modules when code is run\n",
    "%load_ext autoreload\n",
    "%autoreload 2\n",
    "\n",
    "# plotting\n",
    "import matplotlib.pyplot as plt\n",
    "plt.rcParams.update({\"axes.grid\":True,\"grid.color\":\"black\",\"grid.alpha\":\"0.25\",\"grid.linestyle\":\"--\"})\n",
    "plt.rcParams.update({'font.size': 14})\n",
    "\n",
    "# local modules\n",
    "from modelproject import PrincipalAgentClass\n"
   ]
  },
  {
   "attachments": {},
   "cell_type": "markdown",
   "metadata": {},
   "source": [
    "# Model description"
   ]
  },
  {
   "attachments": {},
   "cell_type": "markdown",
   "metadata": {},
   "source": [
    "**Write out the model in equations here.** \n",
    " "
   ]
  },
  {
   "attachments": {},
   "cell_type": "markdown",
   "metadata": {},
   "source": [
    "The principal owns a Joe and the Juice and employ an employee (Agent) to sell the juice. The agents utility function is given by $\\frac{w^{1-\\rho}}{1-\\rho} - c \\cdot e$, where w is the wage received, and $e=e^*$ when the employee stays home at night to be well-rested and $e=0$ when he goes partying. He has a reservation utility of $\\bar{u}$.\n",
    "\n",
    "The employee can sell lots of juice, $s_H$, and only a little juice, $s_L$. When the employee is hungover the probability of high juice sales is $\\pi_0$. When the employee is not hungover, $e=e^*$ the probability is $\\pi_1$.\n",
    "\n",
    "The principal suggest a contract with a wage og $w_H$ if the employee sells a lot, and $w_L$ if the employee sells a little. \n",
    "The principal chooses $(w_L,w_H)$ so as to maximize expected profit:\n",
    "$$\\begin{align} profit = \\pi_1 * (s_H-w_H) +(1-\\pi_1)(s_L-w_L)\n",
    "\\end{align}$$"
   ]
  },
  {
   "attachments": {},
   "cell_type": "markdown",
   "metadata": {},
   "source": [
    "If the principal wants the agent to work hard the problem looks like the following:\n",
    "$$ \n",
    "\\begin{align*}\n",
    "\\min_{w_{h},w_{L}} \\pi_1 \\cdot w_H +(1-\\pi_1)w_L \\\\\n",
    " \\text{s.t.} \\\\\n",
    " \\pi_1 (\\frac{w_H^{1-\\rho}}{1-\\rho} -c \\cdot e^*) + (1-\\pi_1) (\\frac{w_L^{1-\\rho}}{1-\\rho} -c \\cdot e^*) \\geq \\bar{u} \\\\\n",
    " \n",
    " \\pi_1 (\\frac{w_H^{1-\\rho}}{1-\\rho} -c \\cdot e^*) + (1-\\pi_1) (\\frac{w_L^{1-\\rho}}{1-\\rho} -c \\cdot e^*) \\geq \\pi_0 (\\frac{w_H^{1-\\rho}}{1-\\rho})+(1-\\pi_0)(\\frac{w_L^{1-\\rho}}{1-\\rho})\n",
    "\\end{align*}\n",
    "\n",
    "\n",
    "$$"
   ]
  },
  {
   "attachments": {},
   "cell_type": "markdown",
   "metadata": {},
   "source": [
    "The IC-constraint can be rewritten:\n",
    "$$\n",
    "\\begin{align*}\n",
    " \\pi_1 (\\frac{w_H^{1-\\rho}}{1-\\rho} -c \\cdot e^*) + (1-\\pi_1) (\\frac{w_L^{1-\\rho}}{1-\\rho} -c \\cdot e^*) \\geq \\pi_0 (\\frac{w_H^{1-\\rho}}{1-\\rho})+(1-\\pi_0)(\\frac{w_L^{1-\\rho}}{1-\\rho}) \\Longleftrightarrow \\\\\n",
    "(\\pi_1-\\pi_0)\\frac{w_H^{1-\\rho}}{1-\\rho} - (\\pi_1-\\pi_0)\\frac{w_L^{1-\\rho}}{1-\\rho} \\geq c\\cdot e^* \\Longleftrightarrow \\\\\n",
    "\\frac{w_H^{1-\\rho}}{1-\\rho} - \\frac{w_L^{1-\\rho}}{1-\\rho} \\geq \\frac {c \\cdot e^*}{\\pi_1-\\pi_0}\n",
    "\\end{align*}"
   ]
  },
  {
   "attachments": {},
   "cell_type": "markdown",
   "metadata": {},
   "source": [
    "If the principal wants the agent to just go partying the problem looks like the following:\n",
    "$$ \n",
    "\\begin{align*}\n",
    "\\min_{w_{h},w_{L}} \\pi_1 \\cdot w_H +(1-\\pi_1)w_L \\\\\n",
    " \\text{s.t.} \\\\\n",
    " \\pi_0 (\\frac{w_H^{1-\\rho}}{1-\\rho}) + (1-\\pi_0) (\\frac{w_L^{1-\\rho}}{1-\\rho}) \\geq \\bar{u} \\\\\n",
    " \n",
    " \\pi_1 (\\frac{w_H^{1-\\rho}}{1-\\rho} -c \\cdot e^*) + (1-\\pi_1) (\\frac{w_L^{1-\\rho}}{1-\\rho} -c \\cdot e^*) \\leq \\pi_0 (\\frac{w_H^{1-\\rho}}{1-\\rho})+(1-\\pi_0)(\\frac{w_L^{1-\\rho}}{1-\\rho})\n",
    "\\end{align*}\n",
    "\n",
    "\n",
    "$$"
   ]
  },
  {
   "attachments": {},
   "cell_type": "markdown",
   "metadata": {},
   "source": [
    "The IC-constraint can again be rewritten: \n",
    "$$\n",
    "\\begin{align*}\n",
    "\\frac{w_H^{1-\\rho}}{1-\\rho} - \\frac{w_L^{1-\\rho}}{1-\\rho} \\leq \\frac {c \\cdot e^*}{\\pi_1-\\pi_0}\n",
    "\\end{align*}"
   ]
  },
  {
   "attachments": {},
   "cell_type": "markdown",
   "metadata": {},
   "source": [
    "## Analytical solution"
   ]
  },
  {
   "attachments": {},
   "cell_type": "markdown",
   "metadata": {},
   "source": [
    "**Defining functions**"
   ]
  },
  {
   "cell_type": "code",
   "execution_count": 22,
   "metadata": {},
   "outputs": [],
   "source": [
    "pi_1 = sm.symbols('pi_1')\n",
    "pi_0 = sm.symbols('pi_0')\n",
    "wH = sm.symbols('w_H')\n",
    "wL = sm.symbols('w_L')\n",
    "w = sm.symbols('w')\n",
    "rho = sm.symbols('rho')\n",
    "c = sm.symbols('c')\n",
    "estar = sm.symbols('e^*')\n",
    "ubar = sm.symbols('ubar')"
   ]
  },
  {
   "cell_type": "code",
   "execution_count": 3,
   "metadata": {},
   "outputs": [
    {
     "data": {
      "text/latex": [
       "$\\displaystyle \\pi_{1} w_{H} + w_{L} \\left(1 - \\pi_{1}\\right)$"
      ],
      "text/plain": [
       "pi_1*w_H + w_L*(1 - pi_1)"
      ]
     },
     "execution_count": 3,
     "metadata": {},
     "output_type": "execute_result"
    }
   ],
   "source": [
    "# defining objective function\n",
    "objective = pi_1*wH +(1-pi_1)*wL\n",
    "objective"
   ]
  },
  {
   "cell_type": "code",
   "execution_count": 4,
   "metadata": {},
   "outputs": [
    {
     "data": {
      "text/latex": [
       "$\\displaystyle \\frac{w_{H}^{1 - \\rho}}{1 - \\rho}$"
      ],
      "text/plain": [
       "w_H**(1 - rho)/(1 - rho)"
      ]
     },
     "execution_count": 4,
     "metadata": {},
     "output_type": "execute_result"
    }
   ],
   "source": [
    "# defining utility if high wage\n",
    "uH = wH**(1-rho)/(1-rho)\n",
    "uH"
   ]
  },
  {
   "cell_type": "code",
   "execution_count": 5,
   "metadata": {},
   "outputs": [
    {
     "data": {
      "text/latex": [
       "$\\displaystyle \\frac{w_{L}^{1 - \\rho}}{1 - \\rho}$"
      ],
      "text/plain": [
       "w_L**(1 - rho)/(1 - rho)"
      ]
     },
     "execution_count": 5,
     "metadata": {},
     "output_type": "execute_result"
    }
   ],
   "source": [
    "# defining utility if low wage\n",
    "uL = wL**(1-rho)/(1-rho)\n",
    "uL"
   ]
  },
  {
   "attachments": {},
   "cell_type": "markdown",
   "metadata": {},
   "source": [
    "### Solution if the principal wants high effort"
   ]
  },
  {
   "cell_type": "code",
   "execution_count": 6,
   "metadata": {},
   "outputs": [
    {
     "data": {
      "text/latex": [
       "$\\displaystyle \\pi_{1} \\left(- c e^{*} + \\frac{w_{H}^{1 - \\rho}}{1 - \\rho}\\right) + \\left(1 - \\pi_{1}\\right) \\left(- c e^{*} + \\frac{w_{L}^{1 - \\rho}}{1 - \\rho}\\right) = \\bar{u}$"
      ],
      "text/plain": [
       "Eq(pi_1*(-c*e^* + w_H**(1 - rho)/(1 - rho)) + (1 - pi_1)*(-c*e^* + w_L**(1 - rho)/(1 - rho)), ubar)"
      ]
     },
     "execution_count": 6,
     "metadata": {},
     "output_type": "execute_result"
    }
   ],
   "source": [
    "# defining participation constraint. Will bind in optimum. \n",
    "IRconstraint_high_effort = sm.Eq(pi_1*(uH-c*estar) + (1-pi_1)*(uL-c*estar),ubar)\n",
    "IRconstraint_high_effort "
   ]
  },
  {
   "cell_type": "code",
   "execution_count": 7,
   "metadata": {},
   "outputs": [
    {
     "data": {
      "text/latex": [
       "$\\displaystyle \\frac{w_{H}^{1 - \\rho}}{1 - \\rho} - \\frac{w_{L}^{1 - \\rho}}{1 - \\rho} = \\frac{c e^{*}}{- \\pi_{0} + \\pi_{1}}$"
      ],
      "text/plain": [
       "Eq(w_H**(1 - rho)/(1 - rho) - w_L**(1 - rho)/(1 - rho), c*e^*/(-pi_0 + pi_1))"
      ]
     },
     "execution_count": 7,
     "metadata": {},
     "output_type": "execute_result"
    }
   ],
   "source": [
    "# defining participation constraint. Will bind in optimum. \n",
    "ICconstraint_high_effort = sm.Eq(uH-uL,c*estar/(pi_1-pi_0))\n",
    "ICconstraint_high_effort"
   ]
  },
  {
   "attachments": {},
   "cell_type": "markdown",
   "metadata": {},
   "source": [
    "**Solving for the optimal utilities**"
   ]
  },
  {
   "cell_type": "code",
   "execution_count": 9,
   "metadata": {},
   "outputs": [
    {
     "data": {
      "text/latex": [
       "$\\displaystyle \\frac{- c e^{*} \\rho + c e^{*} - \\pi_{1} w_{H}^{1 - \\rho} - \\rho \\bar{u} + \\bar{u}}{\\pi_{1} \\rho - \\pi_{1} - \\rho + 1}$"
      ],
      "text/plain": [
       "(-c*e^**rho + c*e^* - pi_1*w_H**(1 - rho) - rho*ubar + ubar)/(pi_1*rho - pi_1 - rho + 1)"
      ]
     },
     "execution_count": 9,
     "metadata": {},
     "output_type": "execute_result"
    }
   ],
   "source": [
    "# isolating uL from IR \n",
    "uL_from_IR_high_effort = sm.solve(IRconstraint_high_effort,uL)\n",
    "uL_from_IR_high_effort[0]"
   ]
  },
  {
   "cell_type": "code",
   "execution_count": 11,
   "metadata": {},
   "outputs": [
    {
     "data": {
      "text/latex": [
       "$\\displaystyle \\frac{w_{H}^{1 - \\rho}}{1 - \\rho} - \\frac{- c e^{*} \\rho + c e^{*} - \\pi_{1} w_{H}^{1 - \\rho} - \\rho \\bar{u} + \\bar{u}}{\\pi_{1} \\rho - \\pi_{1} - \\rho + 1} = \\frac{c e^{*}}{- \\pi_{0} + \\pi_{1}}$"
      ],
      "text/plain": [
       "Eq(w_H**(1 - rho)/(1 - rho) - (-c*e^**rho + c*e^* - pi_1*w_H**(1 - rho) - rho*ubar + ubar)/(pi_1*rho - pi_1 - rho + 1), c*e^*/(-pi_0 + pi_1))"
      ]
     },
     "execution_count": 11,
     "metadata": {},
     "output_type": "execute_result"
    }
   ],
   "source": [
    "# substitutig uL into IC\n",
    "IC_subs_high_effort = ICconstraint_high_effort.subs(uL, uL_from_IR_high_effort[0])\n",
    "IC_subs_high_effort"
   ]
  },
  {
   "cell_type": "code",
   "execution_count": 12,
   "metadata": {},
   "outputs": [
    {
     "data": {
      "text/latex": [
       "$\\displaystyle \\frac{- c e^{*} \\pi_{0} \\rho + c e^{*} \\pi_{0} + c e^{*} \\rho - c e^{*} - \\pi_{0} \\pi_{1} w_{H}^{1 - \\rho} - \\pi_{0} \\rho \\bar{u} + \\pi_{0} \\bar{u} + \\pi_{1}^{2} w_{H}^{1 - \\rho} + \\pi_{1} \\rho \\bar{u} - \\pi_{1} \\bar{u}}{\\pi_{0} \\pi_{1} \\rho - \\pi_{0} \\pi_{1} - \\pi_{0} \\rho + \\pi_{0} - \\pi_{1}^{2} \\rho + \\pi_{1}^{2} + \\pi_{1} \\rho - \\pi_{1}}$"
      ],
      "text/plain": [
       "(-c*e^**pi_0*rho + c*e^**pi_0 + c*e^**rho - c*e^* - pi_0*pi_1*w_H**(1 - rho) - pi_0*rho*ubar + pi_0*ubar + pi_1**2*w_H**(1 - rho) + pi_1*rho*ubar - pi_1*ubar)/(pi_0*pi_1*rho - pi_0*pi_1 - pi_0*rho + pi_0 - pi_1**2*rho + pi_1**2 + pi_1*rho - pi_1)"
      ]
     },
     "execution_count": 12,
     "metadata": {},
     "output_type": "execute_result"
    }
   ],
   "source": [
    "# isolating uH\n",
    "uH_from_IC_high_effort = sm.solve(IC_subs_high_effort, uH)\n",
    "uH_from_IC_high_effort[0]"
   ]
  },
  {
   "cell_type": "code",
   "execution_count": 14,
   "metadata": {},
   "outputs": [
    {
     "data": {
      "text/latex": [
       "$\\displaystyle - \\frac{w_{L}^{1 - \\rho}}{1 - \\rho} + \\frac{- c e^{*} \\pi_{0} \\rho + c e^{*} \\pi_{0} + c e^{*} \\rho - c e^{*} - \\pi_{0} \\pi_{1} w_{H}^{1 - \\rho} - \\pi_{0} \\rho \\bar{u} + \\pi_{0} \\bar{u} + \\pi_{1}^{2} w_{H}^{1 - \\rho} + \\pi_{1} \\rho \\bar{u} - \\pi_{1} \\bar{u}}{\\pi_{0} \\pi_{1} \\rho - \\pi_{0} \\pi_{1} - \\pi_{0} \\rho + \\pi_{0} - \\pi_{1}^{2} \\rho + \\pi_{1}^{2} + \\pi_{1} \\rho - \\pi_{1}} = \\frac{c e^{*}}{- \\pi_{0} + \\pi_{1}}$"
      ],
      "text/plain": [
       "Eq(-w_L**(1 - rho)/(1 - rho) + (-c*e^**pi_0*rho + c*e^**pi_0 + c*e^**rho - c*e^* - pi_0*pi_1*w_H**(1 - rho) - pi_0*rho*ubar + pi_0*ubar + pi_1**2*w_H**(1 - rho) + pi_1*rho*ubar - pi_1*ubar)/(pi_0*pi_1*rho - pi_0*pi_1 - pi_0*rho + pi_0 - pi_1**2*rho + pi_1**2 + pi_1*rho - pi_1), c*e^*/(-pi_0 + pi_1))"
      ]
     },
     "execution_count": 14,
     "metadata": {},
     "output_type": "execute_result"
    }
   ],
   "source": [
    "# substituting uH into IC \n",
    "IC_subs1_high_effort = ICconstraint_high_effort.subs(uH, uH_from_IC_high_effort[0])\n",
    "IC_subs1_high_effort"
   ]
  },
  {
   "cell_type": "code",
   "execution_count": 15,
   "metadata": {},
   "outputs": [
    {
     "data": {
      "text/latex": [
       "$\\displaystyle \\frac{- c e^{*} \\rho + c e^{*} - \\pi_{1} w_{H}^{1 - \\rho} - \\rho \\bar{u} + \\bar{u}}{\\pi_{1} \\rho - \\pi_{1} - \\rho + 1}$"
      ],
      "text/plain": [
       "(-c*e^**rho + c*e^* - pi_1*w_H**(1 - rho) - rho*ubar + ubar)/(pi_1*rho - pi_1 - rho + 1)"
      ]
     },
     "execution_count": 15,
     "metadata": {},
     "output_type": "execute_result"
    }
   ],
   "source": [
    "# isolating uL\n",
    "uL_from_IC_subs1_high_effort = sm.solve(IC_subs1_high_effort,uL)\n",
    "uL_from_IC_subs1_high_effort[0]"
   ]
  },
  {
   "attachments": {},
   "cell_type": "markdown",
   "metadata": {},
   "source": [
    "**Solving for the optimal wages**"
   ]
  },
  {
   "cell_type": "code",
   "execution_count": 16,
   "metadata": {},
   "outputs": [
    {
     "data": {
      "text/latex": [
       "$\\displaystyle \\left(\\frac{- c e^{*} \\pi_{0} \\rho + c e^{*} \\pi_{0} + c e^{*} \\rho - c e^{*} - \\pi_{0} \\rho \\bar{u} + \\pi_{0} \\bar{u} + \\pi_{1} \\rho \\bar{u} - \\pi_{1} \\bar{u}}{\\pi_{0} - \\pi_{1}}\\right)^{- \\frac{1}{\\rho - 1}}$"
      ],
      "text/plain": [
       "((-c*e^**pi_0*rho + c*e^**pi_0 + c*e^**rho - c*e^* - pi_0*rho*ubar + pi_0*ubar + pi_1*rho*ubar - pi_1*ubar)/(pi_0 - pi_1))**(-1/(rho - 1))"
      ]
     },
     "execution_count": 16,
     "metadata": {},
     "output_type": "execute_result"
    }
   ],
   "source": [
    "# can now solve for the high wage \n",
    "wH_solve_high_effort = sm.solve(sm.Eq(uH_from_IC_high_effort[0],uH),wH)\n",
    "wH_solve_high_effort[0]"
   ]
  },
  {
   "cell_type": "code",
   "execution_count": 17,
   "metadata": {},
   "outputs": [
    {
     "data": {
      "text/latex": [
       "$\\displaystyle \\left(\\frac{c e^{*} \\rho^{2} - 2 c e^{*} \\rho + c e^{*} + \\pi_{1} \\rho w_{H}^{1 - \\rho} - \\pi_{1} w_{H}^{1 - \\rho} + \\rho^{2} \\bar{u} - 2 \\rho \\bar{u} + \\bar{u}}{\\pi_{1} \\rho - \\pi_{1} - \\rho + 1}\\right)^{- \\frac{1}{\\rho - 1}}$"
      ],
      "text/plain": [
       "((c*e^**rho**2 - 2*c*e^**rho + c*e^* + pi_1*rho*w_H**(1 - rho) - pi_1*w_H**(1 - rho) + rho**2*ubar - 2*rho*ubar + ubar)/(pi_1*rho - pi_1 - rho + 1))**(-1/(rho - 1))"
      ]
     },
     "execution_count": 17,
     "metadata": {},
     "output_type": "execute_result"
    }
   ],
   "source": [
    "# solving for wL\n",
    "wL_solve_high_effort = sm.solve(sm.Eq(uL_from_IC_subs1_high_effort[0],uL),wL)\n",
    "wL_solve_high_effort[0]"
   ]
  },
  {
   "cell_type": "code",
   "execution_count": 18,
   "metadata": {},
   "outputs": [
    {
     "data": {
      "text/latex": [
       "$\\displaystyle \\left(\\frac{c e^{*} \\rho^{2} - 2 c e^{*} \\rho + c e^{*} + \\pi_{1} \\rho \\left(\\left(\\frac{- c e^{*} \\pi_{0} \\rho + c e^{*} \\pi_{0} + c e^{*} \\rho - c e^{*} - \\pi_{0} \\rho \\bar{u} + \\pi_{0} \\bar{u} + \\pi_{1} \\rho \\bar{u} - \\pi_{1} \\bar{u}}{\\pi_{0} - \\pi_{1}}\\right)^{- \\frac{1}{\\rho - 1}}\\right)^{1 - \\rho} - \\pi_{1} \\left(\\left(\\frac{- c e^{*} \\pi_{0} \\rho + c e^{*} \\pi_{0} + c e^{*} \\rho - c e^{*} - \\pi_{0} \\rho \\bar{u} + \\pi_{0} \\bar{u} + \\pi_{1} \\rho \\bar{u} - \\pi_{1} \\bar{u}}{\\pi_{0} - \\pi_{1}}\\right)^{- \\frac{1}{\\rho - 1}}\\right)^{1 - \\rho} + \\rho^{2} \\bar{u} - 2 \\rho \\bar{u} + \\bar{u}}{\\pi_{1} \\rho - \\pi_{1} - \\rho + 1}\\right)^{- \\frac{1}{\\rho - 1}}$"
      ],
      "text/plain": [
       "((c*e^**rho**2 - 2*c*e^**rho + c*e^* + pi_1*rho*(((-c*e^**pi_0*rho + c*e^**pi_0 + c*e^**rho - c*e^* - pi_0*rho*ubar + pi_0*ubar + pi_1*rho*ubar - pi_1*ubar)/(pi_0 - pi_1))**(-1/(rho - 1)))**(1 - rho) - pi_1*(((-c*e^**pi_0*rho + c*e^**pi_0 + c*e^**rho - c*e^* - pi_0*rho*ubar + pi_0*ubar + pi_1*rho*ubar - pi_1*ubar)/(pi_0 - pi_1))**(-1/(rho - 1)))**(1 - rho) + rho**2*ubar - 2*rho*ubar + ubar)/(pi_1*rho - pi_1 - rho + 1))**(-1/(rho - 1))"
      ]
     },
     "execution_count": 18,
     "metadata": {},
     "output_type": "execute_result"
    }
   ],
   "source": [
    "# defining wL without wH (only with parameters from the model)\n",
    "wL_without_wages_high_effort = wL_solve_high_effort[0].subs(wH,wH_solve_high_effort[0])\n",
    "wL_without_wages_high_effort"
   ]
  },
  {
   "attachments": {},
   "cell_type": "markdown",
   "metadata": {},
   "source": [
    "**Making the solutions into lambda functions**"
   ]
  },
  {
   "cell_type": "code",
   "execution_count": null,
   "metadata": {},
   "outputs": [],
   "source": [
    "# low wage\n",
    "wL_func_high_effort = sm.lambdify(args=(pi_1,pi_0,rho,c,estar,ubar), expr=wL_without_wages_high_effort)"
   ]
  },
  {
   "cell_type": "code",
   "execution_count": null,
   "metadata": {},
   "outputs": [],
   "source": [
    "# high wage \n",
    "wH_func_high_effort = sm.lambdify(args=(pi_1,pi_0,rho,c,estar,ubar), expr=wH_solve_high_effort)"
   ]
  },
  {
   "attachments": {},
   "cell_type": "markdown",
   "metadata": {},
   "source": [
    "### Solution if the principal wants low effort"
   ]
  },
  {
   "attachments": {},
   "cell_type": "markdown",
   "metadata": {},
   "source": [
    "If the principal wants low effort only the IR will bind, since you would not want to differentiate the wages, if you only want the agent to provide low effort (because the agent is risk-averse this is optimal).\n",
    "\n",
    "Therefore $w_L=w_H=w$"
   ]
  },
  {
   "cell_type": "code",
   "execution_count": 23,
   "metadata": {},
   "outputs": [
    {
     "data": {
      "text/latex": [
       "$\\displaystyle \\frac{\\pi_{1} w^{1 - \\rho}}{1 - \\rho} + \\frac{w^{1 - \\rho} \\left(1 - \\pi_{1}\\right)}{1 - \\rho} = \\bar{u}$"
      ],
      "text/plain": [
       "Eq(pi_1*w**(1 - rho)/(1 - rho) + w**(1 - rho)*(1 - pi_1)/(1 - rho), ubar)"
      ]
     },
     "execution_count": 23,
     "metadata": {},
     "output_type": "execute_result"
    }
   ],
   "source": [
    "IRconstraint_low_effort = sm.Eq(pi_1*w**(1-rho)/(1-rho) + (1-pi_1)*w**(1-rho)/(1-rho),ubar)\n",
    "IRconstraint_low_effort "
   ]
  },
  {
   "cell_type": "code",
   "execution_count": 25,
   "metadata": {},
   "outputs": [
    {
     "data": {
      "text/latex": [
       "$\\displaystyle \\left(\\bar{u} \\left(1 - \\rho\\right)\\right)^{- \\frac{1}{\\rho - 1}}$"
      ],
      "text/plain": [
       "(ubar*(1 - rho))**(-1/(rho - 1))"
      ]
     },
     "execution_count": 25,
     "metadata": {},
     "output_type": "execute_result"
    }
   ],
   "source": [
    "w_solve_low_effort = sm.solve(IRconstraint_low_effort ,w)\n",
    "w_solve_low_effort[0]"
   ]
  },
  {
   "attachments": {},
   "cell_type": "markdown",
   "metadata": {},
   "source": [
    "**Making the solutions into lambda functions**"
   ]
  },
  {
   "cell_type": "code",
   "execution_count": 27,
   "metadata": {},
   "outputs": [],
   "source": [
    "w_func_low_effort = sm.lambdify(args=(rho,ubar),expr=w_solve_low_effort)"
   ]
  },
  {
   "cell_type": "code",
   "execution_count": 31,
   "metadata": {},
   "outputs": [
    {
     "data": {
      "text/plain": [
       "[6.25]"
      ]
     },
     "execution_count": 31,
     "metadata": {},
     "output_type": "execute_result"
    }
   ],
   "source": [
    "w_func_low_effort(par.rho, par.ubar)"
   ]
  },
  {
   "attachments": {},
   "cell_type": "markdown",
   "metadata": {},
   "source": [
    "## Numerical solution"
   ]
  },
  {
   "cell_type": "code",
   "execution_count": 28,
   "metadata": {},
   "outputs": [
    {
     "name": "stdout",
     "output_type": "stream",
     "text": [
      "initializing the model:\n"
     ]
    }
   ],
   "source": [
    "model = PrincipalAgentClass()\n",
    "par = model.par\n",
    "sol = model.sol"
   ]
  },
  {
   "cell_type": "code",
   "execution_count": 29,
   "metadata": {},
   "outputs": [],
   "source": [
    "model.solve()"
   ]
  },
  {
   "cell_type": "code",
   "execution_count": 30,
   "metadata": {},
   "outputs": [
    {
     "name": "stdout",
     "output_type": "stream",
     "text": [
      "namespace(wH_higheffort=11.390624999999956, wL_higheffort=4.515624999999696, wH_loweffort=6.250000153314146, wL_loweffort=6.2499999342922266, wH=11.390624999999956, wL=4.515624999999696, effort=1, profit_high_effort=60.67187500000012, profit_low_effort=23.750000000001197)\n"
     ]
    }
   ],
   "source": [
    "print(sol)"
   ]
  },
  {
   "cell_type": "code",
   "execution_count": 36,
   "metadata": {},
   "outputs": [
    {
     "name": "stdout",
     "output_type": "stream",
     "text": [
      "The high sales wage when wanting high effort is 11.390624999999956\n",
      "The low sales wage when wanting high effort is 4.515624999999696\n",
      "The resulting profit when wanting high effort is 60.67187500000012\n",
      "The high sales wage when wanting low effort is 6.250000153314146\n",
      "The low sales wage when wanting low effort is 6.2499999342922266\n",
      "The resulting profit when wanting low effort is 23.750000000001197\n"
     ]
    }
   ],
   "source": [
    "print(f'The high sales wage when wanting high effort is {sol.wH_higheffort}')\n",
    "print(f'The low sales wage when wanting high effort is {sol.wL_higheffort}')\n",
    "print(f'The resulting profit when wanting high effort is {sol.profit_high_effort}')\n"
   ]
  },
  {
   "cell_type": "code",
   "execution_count": 38,
   "metadata": {},
   "outputs": [
    {
     "name": "stdout",
     "output_type": "stream",
     "text": [
      "The high sales wage when wanting low effort is 6.250000153314146\n",
      "The low sales wage when wanting low effort is 6.2499999342922266\n",
      "The resulting profit when wanting low effort is 23.750000000001197\n"
     ]
    }
   ],
   "source": [
    "print(f'The high sales wage when wanting low effort is {sol.wH_loweffort}')\n",
    "print(f'The low sales wage when wanting low effort is {sol.wL_loweffort}')\n",
    "print(f'The resulting profit when wanting low effort is {sol.profit_low_effort}')"
   ]
  },
  {
   "cell_type": "code",
   "execution_count": 37,
   "metadata": {},
   "outputs": [
    {
     "name": "stdout",
     "output_type": "stream",
     "text": [
      "The resulting effort is therefore 1\n"
     ]
    }
   ],
   "source": [
    "print(f'The resulting effort is therefore {sol.effort}')"
   ]
  },
  {
   "cell_type": "code",
   "execution_count": 40,
   "metadata": {},
   "outputs": [],
   "source": [
    "steps = 20\n",
    "u_grid = np.linspace(1,10,steps)\n",
    "\n",
    "wH_analytical_u_high_effort = np.nan + np.zeros(steps)\n",
    "wH_numerical_u_high_effort = np.nan + np.zeros(steps)\n",
    "wL_analytical_u_high_effort = np.nan + np.zeros(steps)\n",
    "wL_numerical_u_high_effort = np.nan + np.zeros(steps)\n",
    "IR_numerical_u_high_effort = np.nan + np.zeros(steps)\n",
    "IR_numerical_u_high_effort = np.nan + np.zeros(steps)\n",
    "IC_numerical_u_high_effort = np.nan + np.zeros(steps)\n",
    "IR_analytical_u_high_effort = np.nan + np.zeros(steps)\n",
    "IC_analytical_u_high_effort = np.nan + np.zeros(steps)"
   ]
  },
  {
   "attachments": {},
   "cell_type": "markdown",
   "metadata": {},
   "source": [
    "**Checking more differences between numerical and analytical solutions**"
   ]
  },
  {
   "cell_type": "code",
   "execution_count": 41,
   "metadata": {},
   "outputs": [
    {
     "ename": "NameError",
     "evalue": "name 'wH_func_high_effort' is not defined",
     "output_type": "error",
     "traceback": [
      "\u001b[0;31m---------------------------------------------------------------------------\u001b[0m",
      "\u001b[0;31mNameError\u001b[0m                                 Traceback (most recent call last)",
      "\u001b[0;32m/var/folders/yv/8wvls0355h7g_33zxsdkqb580000gn/T/ipykernel_36582/2245570926.py\u001b[0m in \u001b[0;36m<module>\u001b[0;34m\u001b[0m\n\u001b[1;32m      4\u001b[0m     \u001b[0mwH_numerical_u_high_effort\u001b[0m\u001b[0;34m[\u001b[0m\u001b[0mi\u001b[0m\u001b[0;34m]\u001b[0m \u001b[0;34m=\u001b[0m \u001b[0msol\u001b[0m\u001b[0;34m.\u001b[0m\u001b[0mwH_higheffort\u001b[0m\u001b[0;34m\u001b[0m\u001b[0;34m\u001b[0m\u001b[0m\n\u001b[1;32m      5\u001b[0m     \u001b[0mwL_numerical_u_high_effort\u001b[0m\u001b[0;34m[\u001b[0m\u001b[0mi\u001b[0m\u001b[0;34m]\u001b[0m \u001b[0;34m=\u001b[0m \u001b[0msol\u001b[0m\u001b[0;34m.\u001b[0m\u001b[0mwL_higheffort\u001b[0m\u001b[0;34m\u001b[0m\u001b[0;34m\u001b[0m\u001b[0m\n\u001b[0;32m----> 6\u001b[0;31m     \u001b[0mwH_analytical_u_high_effort\u001b[0m\u001b[0;34m[\u001b[0m\u001b[0mi\u001b[0m\u001b[0;34m]\u001b[0m \u001b[0;34m=\u001b[0m \u001b[0mwH_func_high_effort\u001b[0m\u001b[0;34m(\u001b[0m\u001b[0mpar\u001b[0m\u001b[0;34m.\u001b[0m\u001b[0mpi_1\u001b[0m\u001b[0;34m,\u001b[0m\u001b[0mpar\u001b[0m\u001b[0;34m.\u001b[0m\u001b[0mpi_0\u001b[0m\u001b[0;34m,\u001b[0m\u001b[0mpar\u001b[0m\u001b[0;34m.\u001b[0m\u001b[0mrho\u001b[0m\u001b[0;34m,\u001b[0m\u001b[0mpar\u001b[0m\u001b[0;34m.\u001b[0m\u001b[0mc\u001b[0m\u001b[0;34m,\u001b[0m\u001b[0mpar\u001b[0m\u001b[0;34m.\u001b[0m\u001b[0me\u001b[0m\u001b[0;34m,\u001b[0m\u001b[0mpar\u001b[0m\u001b[0;34m.\u001b[0m\u001b[0mubar\u001b[0m\u001b[0;34m)\u001b[0m\u001b[0;34m[\u001b[0m\u001b[0;36m0\u001b[0m\u001b[0;34m]\u001b[0m\u001b[0;34m\u001b[0m\u001b[0;34m\u001b[0m\u001b[0m\n\u001b[0m\u001b[1;32m      7\u001b[0m     \u001b[0mwL_analytical_u_high_effort\u001b[0m\u001b[0;34m[\u001b[0m\u001b[0mi\u001b[0m\u001b[0;34m]\u001b[0m \u001b[0;34m=\u001b[0m \u001b[0mwL_func_high_effort\u001b[0m\u001b[0;34m(\u001b[0m\u001b[0mpar\u001b[0m\u001b[0;34m.\u001b[0m\u001b[0mpi_1\u001b[0m\u001b[0;34m,\u001b[0m\u001b[0mpar\u001b[0m\u001b[0;34m.\u001b[0m\u001b[0mpi_0\u001b[0m\u001b[0;34m,\u001b[0m\u001b[0mpar\u001b[0m\u001b[0;34m.\u001b[0m\u001b[0mrho\u001b[0m\u001b[0;34m,\u001b[0m\u001b[0mpar\u001b[0m\u001b[0;34m.\u001b[0m\u001b[0mc\u001b[0m\u001b[0;34m,\u001b[0m\u001b[0mpar\u001b[0m\u001b[0;34m.\u001b[0m\u001b[0me\u001b[0m\u001b[0;34m,\u001b[0m\u001b[0mpar\u001b[0m\u001b[0;34m.\u001b[0m\u001b[0mubar\u001b[0m\u001b[0;34m)\u001b[0m\u001b[0;34m\u001b[0m\u001b[0;34m\u001b[0m\u001b[0m\n\u001b[1;32m      8\u001b[0m     \u001b[0mIR_numerical_u_high_effort\u001b[0m\u001b[0;34m[\u001b[0m\u001b[0mi\u001b[0m\u001b[0;34m]\u001b[0m \u001b[0;34m=\u001b[0m \u001b[0mmodel\u001b[0m\u001b[0;34m.\u001b[0m\u001b[0mcalc_utility\u001b[0m\u001b[0;34m(\u001b[0m\u001b[0msol\u001b[0m\u001b[0;34m.\u001b[0m\u001b[0mwH_higheffort\u001b[0m\u001b[0;34m,\u001b[0m\u001b[0msol\u001b[0m\u001b[0;34m.\u001b[0m\u001b[0mwL_higheffort\u001b[0m\u001b[0;34m,\u001b[0m\u001b[0;36m1\u001b[0m\u001b[0;34m)\u001b[0m \u001b[0;34m-\u001b[0m \u001b[0mpar\u001b[0m\u001b[0;34m.\u001b[0m\u001b[0mubar\u001b[0m\u001b[0;34m\u001b[0m\u001b[0;34m\u001b[0m\u001b[0m\n",
      "\u001b[0;31mNameError\u001b[0m: name 'wH_func_high_effort' is not defined"
     ]
    }
   ],
   "source": [
    "for i,u in enumerate(u_grid):\n",
    "    par.ubar = u\n",
    "    model.solve()\n",
    "    wH_numerical_u_high_effort[i] = sol.wH_higheffort\n",
    "    wL_numerical_u_high_effort[i] = sol.wL_higheffort\n",
    "    wH_analytical_u_high_effort[i] = wH_func_high_effort(par.pi_1,par.pi_0,par.rho,par.c,par.e,par.ubar)[0]\n",
    "    wL_analytical_u_high_effort[i] = wL_func_high_effort(par.pi_1,par.pi_0,par.rho,par.c,par.e,par.ubar)\n",
    "    IR_numerical_u_high_effort[i] = model.calc_utility(sol.wH_higheffort,sol.wL_higheffort,1) - par.ubar\n",
    "    IR_analytical_u_high_effort[i] = model.calc_utility(wH_analytical_u_high_effort[i],wL_analytical_u_high_effort[i],1) - par.ubar\n",
    "    IC_numerical_u_high_effort[i] = model.calc_utility(sol.wH_higheffort,sol.wL_higheffort,1) - model.calc_utility(sol.wH_higheffort,sol.wL_higheffort,0)\n",
    "    IC_analytical_u_high_effort[i] = model.calc_utility(wH_analytical_u_high_effort[i],wL_analytical_u_high_effort[i],1) - model.calc_utility(wH_analytical_u_high_effort[i],wL_analytical_u_high_effort[i],0)"
   ]
  },
  {
   "cell_type": "code",
   "execution_count": null,
   "metadata": {},
   "outputs": [],
   "source": [
    "fig = plt.figure(figsize=(6,6/1.5))\n",
    "ax = fig.add_subplot(1,1,1)\n",
    "ax.plot(u_grid,wH_numerical_u,label=r'$w_H$, numerical')\n",
    "ax.plot(u_grid,wH_analytical_u, label=r'$w_H$, analytical')\n",
    "ax.set(xlabel ='Reservation utility')\n",
    "ax.legend(frameon=True)\n",
    "fig.tight_layout()"
   ]
  },
  {
   "cell_type": "code",
   "execution_count": null,
   "metadata": {},
   "outputs": [],
   "source": [
    "fig = plt.figure(figsize=(6,6/1.5))\n",
    "ax = fig.add_subplot(1,1,1)\n",
    "ax.plot(u_grid,wL_numerical_u,label=r'$w_L$, numerical')\n",
    "ax.plot(u_grid,wL_analytical_u, label=r'$w_L$, analytical')\n",
    "ax.set(xlabel ='Reservation utility')\n",
    "ax.legend(frameon=True)\n",
    "fig.tight_layout()"
   ]
  },
  {
   "cell_type": "code",
   "execution_count": null,
   "metadata": {},
   "outputs": [],
   "source": [
    "fig = plt.figure(figsize=(6,6/1.5))\n",
    "ax = fig.add_subplot(1,1,1)\n",
    "ax.plot(u_grid,IC_numerical_u,label=r'IC numerical')\n",
    "ax.plot(u_grid,IR_numerical_u, label=r'IR numerical')\n",
    "ax.plot(u_grid,IC_analytical_u,label=r'IC analytical')\n",
    "ax.plot(u_grid,IR_analytical_u, label=r'IR analytical')\n",
    "ax.set(xlabel ='Reservation utility')\n",
    "ax.legend(frameon=True)\n",
    "fig.tight_layout()"
   ]
  },
  {
   "cell_type": "code",
   "execution_count": null,
   "metadata": {},
   "outputs": [],
   "source": []
  },
  {
   "attachments": {},
   "cell_type": "markdown",
   "metadata": {},
   "source": [
    "# Further analysis"
   ]
  },
  {
   "attachments": {},
   "cell_type": "markdown",
   "metadata": {},
   "source": [
    "Make detailed vizualizations of how your model changes with parameter values. \n",
    "\n",
    "Try to make an extension of the model. "
   ]
  },
  {
   "attachments": {},
   "cell_type": "markdown",
   "metadata": {},
   "source": [
    "# Conclusion"
   ]
  },
  {
   "attachments": {},
   "cell_type": "markdown",
   "metadata": {},
   "source": [
    "Add concise conclusion. "
   ]
  }
 ],
 "metadata": {
  "kernelspec": {
   "display_name": "base",
   "language": "python",
   "name": "python3"
  },
  "language_info": {
   "codemirror_mode": {
    "name": "ipython",
    "version": 3
   },
   "file_extension": ".py",
   "mimetype": "text/x-python",
   "name": "python",
   "nbconvert_exporter": "python",
   "pygments_lexer": "ipython3",
   "version": "3.9.13"
  },
  "toc-autonumbering": true,
  "vscode": {
   "interpreter": {
    "hash": "47ef90cdf3004d3f859f1fb202523c65c07ba7c22eefd261b181f4744e2d0403"
   }
  }
 },
 "nbformat": 4,
 "nbformat_minor": 4
}
