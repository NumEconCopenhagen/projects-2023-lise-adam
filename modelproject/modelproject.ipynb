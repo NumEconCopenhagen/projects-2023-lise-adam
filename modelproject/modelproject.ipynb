{
 "cells": [
  {
   "attachments": {},
   "cell_type": "markdown",
   "metadata": {},
   "source": [
    "# YOUR PROJECT TITLE"
   ]
  },
  {
   "attachments": {},
   "cell_type": "markdown",
   "metadata": {},
   "source": [
    "> **Note the following:** \n",
    "> 1. This is *not* meant to be an example of an actual **model analysis project**, just an example of how to structure such a project.\n",
    "> 1. Remember the general advice on structuring and commenting your code\n",
    "> 1. The `modelproject.py` file includes a function which could be used multiple times in this notebook."
   ]
  },
  {
   "attachments": {},
   "cell_type": "markdown",
   "metadata": {},
   "source": [
    "Imports and set magics:"
   ]
  },
  {
   "cell_type": "code",
   "execution_count": 1,
   "metadata": {},
   "outputs": [],
   "source": [
    "import numpy as np\n",
    "from scipy import optimize\n",
    "import sympy as sm\n",
    "\n",
    "# autoreload modules when code is run\n",
    "%load_ext autoreload\n",
    "%autoreload 2\n",
    "\n",
    "# local modules\n",
    "from modelproject import PrincipalAgentClass\n"
   ]
  },
  {
   "attachments": {},
   "cell_type": "markdown",
   "metadata": {},
   "source": [
    "# Model description"
   ]
  },
  {
   "attachments": {},
   "cell_type": "markdown",
   "metadata": {},
   "source": [
    "**Write out the model in equations here.** \n",
    " "
   ]
  },
  {
   "attachments": {},
   "cell_type": "markdown",
   "metadata": {},
   "source": [
    "The principal owns a Joe and the Juice and employ an employee (Agent) to sell the juice. The agents utility function is given by $\\frac{w^{1-\\rho}}{1-\\rho} - c \\cdot e$, where w is the wage received, and $e=e^*$ when the employee stays home at night to be well-rested and $e=0$ when he goes partying. He has a reservation utility of $u$.\n",
    "\n",
    "The employee can sell lots of juice and only a little juice. When the employee is hungover the probability of high juice sales is $\\pi_0$. When the employee is not hungover, $e=e^*$ the probability is $\\pi_1$.\n",
    "\n",
    "The principal suggest a contract with a wage og $w_H$ if the employee sells a lot, and $w_L$ if the employee sells a little. \n",
    "The principal chooses $(w_L,w_H)$ so as to minimize expected wage payment and wants the employee to work hard:\n",
    "$$\\begin{align} \\pi_e * w_H +(1-\\pi_1)w_L\n",
    "\\end{align}$$"
   ]
  },
  {
   "attachments": {},
   "cell_type": "markdown",
   "metadata": {},
   "source": [
    "So the problem looks like the following:\n",
    "$$ \n",
    "\\begin{align*}\n",
    "\\min_{w_{h},w_{L}} \\pi_1 \\cdot w_H +(1-\\pi_1)w_L \\\\\n",
    " \\text{s.t.} \\\\\n",
    " \\pi_1 (\\frac{w_H^{1-\\rho}}{1-\\rho} -c \\cdot e^*) + (1-\\pi_1) (\\frac{w_L^{1-\\rho}}{1-\\rho} -c \\cdot e^*) \\geq \\bar{u} \\\\\n",
    " \n",
    " \\pi_1 (\\frac{w_H^{1-\\rho}}{1-\\rho} -c \\cdot e^*) + (1-\\pi_1) (\\frac{w_L^{1-\\rho}}{1-\\rho} -c \\cdot e^*) \\geq \\pi_0 (\\frac{w_H^{1-\\rho}}{1-\\rho})+(1-\\pi_0)(\\frac{w_L^{1-\\rho}}{1-\\rho})\n",
    "\\end{align*}\n",
    "\n",
    "\n",
    "$$"
   ]
  },
  {
   "attachments": {},
   "cell_type": "markdown",
   "metadata": {},
   "source": [
    "The IC-constraint can be rewritten:\n",
    "$$\n",
    "\\begin{align*}\n",
    " \\pi_1 (\\frac{w_H^{1-\\rho}}{1-\\rho} -c \\cdot e^*) + (1-\\pi_1) (\\frac{w_L^{1-\\rho}}{1-\\rho} -c \\cdot e^*) \\geq \\pi_0 (\\frac{w_H^{1-\\rho}}{1-\\rho})+(1-\\pi_0)(\\frac{w_L^{1-\\rho}}{1-\\rho}) \\Longleftrightarrow \\\\\n",
    "(\\pi_1-\\pi_0)\\frac{w_H^{1-\\rho}}{1-\\rho} - (\\pi_1-\\pi_0)\\frac{w_L^{1-\\rho}}{1-\\rho} \\geq c\\cdot e^* \\Longleftrightarrow \\\\\n",
    "\\frac{w_H^{1-\\rho}}{1-\\rho} - \\frac{w_L^{1-\\rho}}{1-\\rho} \\geq \\frac {c \\cdot e^*}{\\pi_1-\\pi_0}\n",
    "\\end{align*}"
   ]
  },
  {
   "attachments": {},
   "cell_type": "markdown",
   "metadata": {},
   "source": [
    "## Analytical solution"
   ]
  },
  {
   "attachments": {},
   "cell_type": "markdown",
   "metadata": {},
   "source": [
    "**Defining functions**"
   ]
  },
  {
   "cell_type": "code",
   "execution_count": 2,
   "metadata": {},
   "outputs": [],
   "source": [
    "pi_1 = sm.symbols('pi_1')\n",
    "pi_0 = sm.symbols('pi_0')\n",
    "wH = sm.symbols('w_H')\n",
    "wL = sm.symbols('w_L')\n",
    "rho = sm.symbols('rho')\n",
    "c = sm.symbols('c')\n",
    "estar = sm.symbols('e^*')\n",
    "ubar = sm.symbols('ubar')"
   ]
  },
  {
   "cell_type": "code",
   "execution_count": 3,
   "metadata": {},
   "outputs": [
    {
     "data": {
      "text/latex": [
       "$\\displaystyle \\pi_{1} w_{H} + w_{L} \\left(1 - \\pi_{1}\\right)$"
      ],
      "text/plain": [
       "pi_1*w_H + w_L*(1 - pi_1)"
      ]
     },
     "execution_count": 3,
     "metadata": {},
     "output_type": "execute_result"
    }
   ],
   "source": [
    "# defining objective function\n",
    "objective = pi_1*wH +(1-pi_1)*wL\n",
    "objective"
   ]
  },
  {
   "cell_type": "code",
   "execution_count": 4,
   "metadata": {},
   "outputs": [
    {
     "data": {
      "text/latex": [
       "$\\displaystyle \\frac{w_{H}^{1 - \\rho}}{1 - \\rho}$"
      ],
      "text/plain": [
       "w_H**(1 - rho)/(1 - rho)"
      ]
     },
     "execution_count": 4,
     "metadata": {},
     "output_type": "execute_result"
    }
   ],
   "source": [
    "# defining utility if high wage\n",
    "uH = wH**(1-rho)/(1-rho)\n",
    "uH"
   ]
  },
  {
   "cell_type": "code",
   "execution_count": 5,
   "metadata": {},
   "outputs": [
    {
     "data": {
      "text/latex": [
       "$\\displaystyle \\frac{w_{L}^{1 - \\rho}}{1 - \\rho}$"
      ],
      "text/plain": [
       "w_L**(1 - rho)/(1 - rho)"
      ]
     },
     "execution_count": 5,
     "metadata": {},
     "output_type": "execute_result"
    }
   ],
   "source": [
    "# defining utility if low wage\n",
    "uL = wL**(1-rho)/(1-rho)\n",
    "uL"
   ]
  },
  {
   "cell_type": "code",
   "execution_count": 6,
   "metadata": {},
   "outputs": [
    {
     "data": {
      "text/latex": [
       "$\\displaystyle \\pi_{1} \\left(- c e^{*} + \\frac{w_{H}^{1 - \\rho}}{1 - \\rho}\\right) + \\left(1 - \\pi_{1}\\right) \\left(- c e^{*} + \\frac{w_{L}^{1 - \\rho}}{1 - \\rho}\\right) = \\bar{u}$"
      ],
      "text/plain": [
       "Eq(pi_1*(-c*e^* + w_H**(1 - rho)/(1 - rho)) + (1 - pi_1)*(-c*e^* + w_L**(1 - rho)/(1 - rho)), ubar)"
      ]
     },
     "execution_count": 6,
     "metadata": {},
     "output_type": "execute_result"
    }
   ],
   "source": [
    "# defining participation constraint. Will bind in optimum. \n",
    "IRconstraint = sm.Eq(pi_1*(uH-c*estar) + (1-pi_1)*(uL-c*estar),ubar)\n",
    "IRconstraint"
   ]
  },
  {
   "cell_type": "code",
   "execution_count": 7,
   "metadata": {},
   "outputs": [
    {
     "data": {
      "text/latex": [
       "$\\displaystyle \\frac{w_{H}^{1 - \\rho}}{1 - \\rho} - \\frac{w_{L}^{1 - \\rho}}{1 - \\rho} = \\frac{c e^{*}}{- \\pi_{0} + \\pi_{1}}$"
      ],
      "text/plain": [
       "Eq(w_H**(1 - rho)/(1 - rho) - w_L**(1 - rho)/(1 - rho), c*e^*/(-pi_0 + pi_1))"
      ]
     },
     "execution_count": 7,
     "metadata": {},
     "output_type": "execute_result"
    }
   ],
   "source": [
    "# defining participation constraint. Will bind in optimum. \n",
    "ICconstraint = sm.Eq(uH-uL,c*estar/(pi_1-pi_0))\n",
    "ICconstraint"
   ]
  },
  {
   "attachments": {},
   "cell_type": "markdown",
   "metadata": {},
   "source": [
    "**Solving for the optimal utilities**"
   ]
  },
  {
   "cell_type": "code",
   "execution_count": 8,
   "metadata": {},
   "outputs": [
    {
     "data": {
      "text/latex": [
       "$\\displaystyle \\frac{- c e^{*} \\rho + c e^{*} - \\pi_{1} w_{H}^{1 - \\rho} - \\rho \\bar{u} + \\bar{u}}{\\pi_{1} \\rho - \\pi_{1} - \\rho + 1}$"
      ],
      "text/plain": [
       "(-c*e^**rho + c*e^* - pi_1*w_H**(1 - rho) - rho*ubar + ubar)/(pi_1*rho - pi_1 - rho + 1)"
      ]
     },
     "execution_count": 8,
     "metadata": {},
     "output_type": "execute_result"
    }
   ],
   "source": [
    "# isolating uL from IR \n",
    "uL_from_IR = sm.solve(IRconstraint,uL)\n",
    "uL_from_IR[0]"
   ]
  },
  {
   "cell_type": "code",
   "execution_count": 9,
   "metadata": {},
   "outputs": [
    {
     "data": {
      "text/latex": [
       "$\\displaystyle \\frac{w_{H}^{1 - \\rho}}{1 - \\rho} - \\frac{- c e^{*} \\rho + c e^{*} - \\pi_{1} w_{H}^{1 - \\rho} - \\rho \\bar{u} + \\bar{u}}{\\pi_{1} \\rho - \\pi_{1} - \\rho + 1} = \\frac{c e^{*}}{- \\pi_{0} + \\pi_{1}}$"
      ],
      "text/plain": [
       "Eq(w_H**(1 - rho)/(1 - rho) - (-c*e^**rho + c*e^* - pi_1*w_H**(1 - rho) - rho*ubar + ubar)/(pi_1*rho - pi_1 - rho + 1), c*e^*/(-pi_0 + pi_1))"
      ]
     },
     "execution_count": 9,
     "metadata": {},
     "output_type": "execute_result"
    }
   ],
   "source": [
    "# substitutig uL into IC\n",
    "IC_subs = ICconstraint.subs(uL, uL_from_IR[0])\n",
    "IC_subs"
   ]
  },
  {
   "cell_type": "code",
   "execution_count": 10,
   "metadata": {},
   "outputs": [
    {
     "data": {
      "text/latex": [
       "$\\displaystyle \\frac{- c e^{*} \\pi_{0} \\rho + c e^{*} \\pi_{0} + c e^{*} \\rho - c e^{*} - \\pi_{0} \\pi_{1} w_{H}^{1 - \\rho} - \\pi_{0} \\rho \\bar{u} + \\pi_{0} \\bar{u} + \\pi_{1}^{2} w_{H}^{1 - \\rho} + \\pi_{1} \\rho \\bar{u} - \\pi_{1} \\bar{u}}{\\pi_{0} \\pi_{1} \\rho - \\pi_{0} \\pi_{1} - \\pi_{0} \\rho + \\pi_{0} - \\pi_{1}^{2} \\rho + \\pi_{1}^{2} + \\pi_{1} \\rho - \\pi_{1}}$"
      ],
      "text/plain": [
       "(-c*e^**pi_0*rho + c*e^**pi_0 + c*e^**rho - c*e^* - pi_0*pi_1*w_H**(1 - rho) - pi_0*rho*ubar + pi_0*ubar + pi_1**2*w_H**(1 - rho) + pi_1*rho*ubar - pi_1*ubar)/(pi_0*pi_1*rho - pi_0*pi_1 - pi_0*rho + pi_0 - pi_1**2*rho + pi_1**2 + pi_1*rho - pi_1)"
      ]
     },
     "execution_count": 10,
     "metadata": {},
     "output_type": "execute_result"
    }
   ],
   "source": [
    "# isolating uH\n",
    "uH_from_IC = sm.solve(IC_subs, uH)\n",
    "uH_from_IC[0]"
   ]
  },
  {
   "cell_type": "code",
   "execution_count": 11,
   "metadata": {},
   "outputs": [
    {
     "data": {
      "text/latex": [
       "$\\displaystyle - \\frac{w_{L}^{1 - \\rho}}{1 - \\rho} + \\frac{- c e^{*} \\pi_{0} \\rho + c e^{*} \\pi_{0} + c e^{*} \\rho - c e^{*} - \\pi_{0} \\pi_{1} w_{H}^{1 - \\rho} - \\pi_{0} \\rho \\bar{u} + \\pi_{0} \\bar{u} + \\pi_{1}^{2} w_{H}^{1 - \\rho} + \\pi_{1} \\rho \\bar{u} - \\pi_{1} \\bar{u}}{\\pi_{0} \\pi_{1} \\rho - \\pi_{0} \\pi_{1} - \\pi_{0} \\rho + \\pi_{0} - \\pi_{1}^{2} \\rho + \\pi_{1}^{2} + \\pi_{1} \\rho - \\pi_{1}} = \\frac{c e^{*}}{- \\pi_{0} + \\pi_{1}}$"
      ],
      "text/plain": [
       "Eq(-w_L**(1 - rho)/(1 - rho) + (-c*e^**pi_0*rho + c*e^**pi_0 + c*e^**rho - c*e^* - pi_0*pi_1*w_H**(1 - rho) - pi_0*rho*ubar + pi_0*ubar + pi_1**2*w_H**(1 - rho) + pi_1*rho*ubar - pi_1*ubar)/(pi_0*pi_1*rho - pi_0*pi_1 - pi_0*rho + pi_0 - pi_1**2*rho + pi_1**2 + pi_1*rho - pi_1), c*e^*/(-pi_0 + pi_1))"
      ]
     },
     "execution_count": 11,
     "metadata": {},
     "output_type": "execute_result"
    }
   ],
   "source": [
    "# substituting uH into IC \n",
    "IC_subs1 = ICconstraint.subs(uH, uH_from_IC[0])\n",
    "IC_subs1"
   ]
  },
  {
   "cell_type": "code",
   "execution_count": 12,
   "metadata": {},
   "outputs": [
    {
     "data": {
      "text/latex": [
       "$\\displaystyle \\frac{- c e^{*} \\rho + c e^{*} - \\pi_{1} w_{H}^{1 - \\rho} - \\rho \\bar{u} + \\bar{u}}{\\pi_{1} \\rho - \\pi_{1} - \\rho + 1}$"
      ],
      "text/plain": [
       "(-c*e^**rho + c*e^* - pi_1*w_H**(1 - rho) - rho*ubar + ubar)/(pi_1*rho - pi_1 - rho + 1)"
      ]
     },
     "execution_count": 12,
     "metadata": {},
     "output_type": "execute_result"
    }
   ],
   "source": [
    "# isolating uL\n",
    "uL_from_IC_subs1 = sm.solve(IC_subs1,uL)\n",
    "uL_from_IC_subs1[0]"
   ]
  },
  {
   "attachments": {},
   "cell_type": "markdown",
   "metadata": {},
   "source": [
    "**Solving for the optimal wages**"
   ]
  },
  {
   "cell_type": "code",
   "execution_count": 13,
   "metadata": {},
   "outputs": [
    {
     "data": {
      "text/latex": [
       "$\\displaystyle \\left(\\frac{- c e^{*} \\pi_{0} \\rho + c e^{*} \\pi_{0} + c e^{*} \\rho - c e^{*} - \\pi_{0} \\rho \\bar{u} + \\pi_{0} \\bar{u} + \\pi_{1} \\rho \\bar{u} - \\pi_{1} \\bar{u}}{\\pi_{0} - \\pi_{1}}\\right)^{- \\frac{1}{\\rho - 1}}$"
      ],
      "text/plain": [
       "((-c*e^**pi_0*rho + c*e^**pi_0 + c*e^**rho - c*e^* - pi_0*rho*ubar + pi_0*ubar + pi_1*rho*ubar - pi_1*ubar)/(pi_0 - pi_1))**(-1/(rho - 1))"
      ]
     },
     "execution_count": 13,
     "metadata": {},
     "output_type": "execute_result"
    }
   ],
   "source": [
    "# can now solve for the high wage \n",
    "wH_solve = sm.solve(sm.Eq(uH_from_IC[0],uH),wH)\n",
    "wH_solve[0]"
   ]
  },
  {
   "cell_type": "code",
   "execution_count": 14,
   "metadata": {},
   "outputs": [
    {
     "data": {
      "text/latex": [
       "$\\displaystyle \\left(\\frac{c e^{*} \\rho^{2} - 2 c e^{*} \\rho + c e^{*} + \\pi_{1} \\rho w_{H}^{1 - \\rho} - \\pi_{1} w_{H}^{1 - \\rho} + \\rho^{2} \\bar{u} - 2 \\rho \\bar{u} + \\bar{u}}{\\pi_{1} \\rho - \\pi_{1} - \\rho + 1}\\right)^{- \\frac{1}{\\rho - 1}}$"
      ],
      "text/plain": [
       "((c*e^**rho**2 - 2*c*e^**rho + c*e^* + pi_1*rho*w_H**(1 - rho) - pi_1*w_H**(1 - rho) + rho**2*ubar - 2*rho*ubar + ubar)/(pi_1*rho - pi_1 - rho + 1))**(-1/(rho - 1))"
      ]
     },
     "execution_count": 14,
     "metadata": {},
     "output_type": "execute_result"
    }
   ],
   "source": [
    "# solving for wL\n",
    "wL_solve = sm.solve(sm.Eq(uL_from_IC_subs1[0],uL),wL)\n",
    "wL_solve[0]"
   ]
  },
  {
   "cell_type": "code",
   "execution_count": 15,
   "metadata": {},
   "outputs": [
    {
     "data": {
      "text/latex": [
       "$\\displaystyle \\left(\\frac{c e^{*} \\rho^{2} - 2 c e^{*} \\rho + c e^{*} + \\pi_{1} \\rho \\left(\\left(\\frac{- c e^{*} \\pi_{0} \\rho + c e^{*} \\pi_{0} + c e^{*} \\rho - c e^{*} - \\pi_{0} \\rho \\bar{u} + \\pi_{0} \\bar{u} + \\pi_{1} \\rho \\bar{u} - \\pi_{1} \\bar{u}}{\\pi_{0} - \\pi_{1}}\\right)^{- \\frac{1}{\\rho - 1}}\\right)^{1 - \\rho} - \\pi_{1} \\left(\\left(\\frac{- c e^{*} \\pi_{0} \\rho + c e^{*} \\pi_{0} + c e^{*} \\rho - c e^{*} - \\pi_{0} \\rho \\bar{u} + \\pi_{0} \\bar{u} + \\pi_{1} \\rho \\bar{u} - \\pi_{1} \\bar{u}}{\\pi_{0} - \\pi_{1}}\\right)^{- \\frac{1}{\\rho - 1}}\\right)^{1 - \\rho} + \\rho^{2} \\bar{u} - 2 \\rho \\bar{u} + \\bar{u}}{\\pi_{1} \\rho - \\pi_{1} - \\rho + 1}\\right)^{- \\frac{1}{\\rho - 1}}$"
      ],
      "text/plain": [
       "((c*e^**rho**2 - 2*c*e^**rho + c*e^* + pi_1*rho*(((-c*e^**pi_0*rho + c*e^**pi_0 + c*e^**rho - c*e^* - pi_0*rho*ubar + pi_0*ubar + pi_1*rho*ubar - pi_1*ubar)/(pi_0 - pi_1))**(-1/(rho - 1)))**(1 - rho) - pi_1*(((-c*e^**pi_0*rho + c*e^**pi_0 + c*e^**rho - c*e^* - pi_0*rho*ubar + pi_0*ubar + pi_1*rho*ubar - pi_1*ubar)/(pi_0 - pi_1))**(-1/(rho - 1)))**(1 - rho) + rho**2*ubar - 2*rho*ubar + ubar)/(pi_1*rho - pi_1 - rho + 1))**(-1/(rho - 1))"
      ]
     },
     "execution_count": 15,
     "metadata": {},
     "output_type": "execute_result"
    }
   ],
   "source": [
    "# defining wL without wH (only with parameters from the model)\n",
    "wL_without_wages = wL_solve[0].subs(wH,wH_solve[0])\n",
    "wL_without_wages"
   ]
  },
  {
   "attachments": {},
   "cell_type": "markdown",
   "metadata": {},
   "source": [
    "**Making the solutions into lambda functions**"
   ]
  },
  {
   "cell_type": "code",
   "execution_count": 16,
   "metadata": {},
   "outputs": [],
   "source": [
    "# low wage\n",
    "wL_func = sm.lambdify(args=(pi_1,pi_0,rho,c,estar,ubar), expr=wL_without_wages)"
   ]
  },
  {
   "cell_type": "code",
   "execution_count": 17,
   "metadata": {},
   "outputs": [],
   "source": [
    "# high wage \n",
    "wH_func = sm.lambdify(args=(pi_1,pi_0,rho,c,estar,ubar), expr=wH_solve)"
   ]
  },
  {
   "attachments": {},
   "cell_type": "markdown",
   "metadata": {},
   "source": [
    "## Numerical solution"
   ]
  },
  {
   "cell_type": "code",
   "execution_count": 29,
   "metadata": {},
   "outputs": [
    {
     "name": "stdout",
     "output_type": "stream",
     "text": [
      "initializing the model:\n"
     ]
    }
   ],
   "source": [
    "model = PrincipalAgentClass()\n",
    "par = model.par\n",
    "sol = model.sol"
   ]
  },
  {
   "cell_type": "code",
   "execution_count": 30,
   "metadata": {},
   "outputs": [
    {
     "data": {
      "text/plain": [
       "     fun: 9.248437499993171\n",
       "     jac: array([0.69999993, 0.29999995])\n",
       " message: 'Optimization terminated successfully'\n",
       "    nfev: 18\n",
       "     nit: 7\n",
       "    njev: 6\n",
       "  status: 0\n",
       " success: True\n",
       "       x: array([11.390625,  4.25    ])"
      ]
     },
     "execution_count": 30,
     "metadata": {},
     "output_type": "execute_result"
    }
   ],
   "source": [
    "model.solve()"
   ]
  },
  {
   "cell_type": "code",
   "execution_count": 31,
   "metadata": {},
   "outputs": [
    {
     "name": "stdout",
     "output_type": "stream",
     "text": [
      "Expected utility when providing high effort 5.00000000\n",
      "Expected utility when providing low effort 5.00000000\n",
      "The IC-constraint is given by -0.00000000\n"
     ]
    }
   ],
   "source": [
    "# checking IC-constraint\n",
    "exp_utility_high_effort = model.calc_utility(sol.wH,sol.wL,1)\n",
    "exp_utility_low_effort = model.calc_utility(sol.wH,sol.wL,0)\n",
    "IC_constraint = exp_utility_high_effort-exp_utility_low_effort\n",
    "print(f'Expected utility when providing high effort {exp_utility_high_effort:.8f}')\n",
    "print(f'Expected utility when providing low effort {exp_utility_low_effort:.8f}')\n",
    "print(f'The IC-constraint is given by {IC_constraint:.8f}')\n"
   ]
  },
  {
   "cell_type": "code",
   "execution_count": 32,
   "metadata": {},
   "outputs": [
    {
     "name": "stdout",
     "output_type": "stream",
     "text": [
      "Expected utility when providing high effort 5.00000000\n",
      "The reservation utility is given by 5.00000000\n",
      "The IR-constraint is given by 0.00000000\n"
     ]
    }
   ],
   "source": [
    "# checking IR-constraint\n",
    "IR_constraint = exp_utility_high_effort-par.ubar\n",
    "print(f'Expected utility when providing high effort {exp_utility_high_effort:.8f}')\n",
    "print(f'The reservation utility is given by {par.ubar:.8f}')\n",
    "print(f'The IR-constraint is given by {IR_constraint:.8f}')"
   ]
  },
  {
   "cell_type": "code",
   "execution_count": null,
   "metadata": {},
   "outputs": [],
   "source": [
    "wL_func = sm.lambdify(args=(pi_1,pi_0,rho,c,estar,ubar), expr=wL_without_wages)"
   ]
  },
  {
   "cell_type": "code",
   "execution_count": 41,
   "metadata": {},
   "outputs": [
    {
     "name": "stdout",
     "output_type": "stream",
     "text": [
      "W_H analytical is given by 11.39062500, while the numerical is given by 11.39062500\n",
      "W_L analytical is given by 4.51562500, while the numerical is given by 4.25000000\n"
     ]
    }
   ],
   "source": [
    "# checking difference with analytical solution\n",
    "wH_analytical = wH_func(par.pi_1,par.pi_0,par.rho,par.c,par.e,par.ubar)\n",
    "wL_analytical = wL_func(par.pi_1,par.pi_0,par.rho,par.c,par.e,par.ubar)\n",
    "print(f'W_H analytical is given by {wH_analytical[0]:.8f}, while the numerical is given by {sol.wH:.8f}')\n",
    "print(f'W_L analytical is given by {wL_analytical:.8f}, while the numerical is given by {sol.wL:.8f}')"
   ]
  },
  {
   "attachments": {},
   "cell_type": "markdown",
   "metadata": {},
   "source": [
    "# Further analysis"
   ]
  },
  {
   "attachments": {},
   "cell_type": "markdown",
   "metadata": {},
   "source": [
    "Make detailed vizualizations of how your model changes with parameter values. \n",
    "\n",
    "Try to make an extension of the model. "
   ]
  },
  {
   "attachments": {},
   "cell_type": "markdown",
   "metadata": {},
   "source": [
    "# Conclusion"
   ]
  },
  {
   "attachments": {},
   "cell_type": "markdown",
   "metadata": {},
   "source": [
    "Add concise conclusion. "
   ]
  }
 ],
 "metadata": {
  "kernelspec": {
   "display_name": "base",
   "language": "python",
   "name": "python3"
  },
  "language_info": {
   "codemirror_mode": {
    "name": "ipython",
    "version": 3
   },
   "file_extension": ".py",
   "mimetype": "text/x-python",
   "name": "python",
   "nbconvert_exporter": "python",
   "pygments_lexer": "ipython3",
   "version": "3.9.13"
  },
  "toc-autonumbering": true,
  "vscode": {
   "interpreter": {
    "hash": "47ef90cdf3004d3f859f1fb202523c65c07ba7c22eefd261b181f4744e2d0403"
   }
  }
 },
 "nbformat": 4,
 "nbformat_minor": 4
}
